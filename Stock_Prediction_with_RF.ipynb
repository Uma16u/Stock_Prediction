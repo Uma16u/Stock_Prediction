{
  "cells": [
    {
      "cell_type": "markdown",
      "metadata": {
        "id": "MFLkWNkwoKng"
      },
      "source": [
        "# **Cleaning and Preprocessing the data**"
      ]
    },
    {
      "cell_type": "code",
      "execution_count": 27,
      "metadata": {
        "id": "rsYISsL5ob2M"
      },
      "outputs": [],
      "source": [
        "# Import the necessary libraries\n",
        "import pandas as pd\n",
        "import matplotlib.pyplot as plt\n",
        "import numpy as np\n",
        "import copy\n",
        "import seaborn as sns\n",
        "\n",
        "from sklearn.linear_model import LinearRegression\n",
        "from sklearn.metrics import mean_squared_error, r2_score\n",
        "from sklearn.linear_model import Ridge\n",
        "from sklearn.model_selection import KFold\n",
        "from sklearn.ensemble import RandomForestRegressor\n",
        "from sklearn.model_selection import train_test_split, GridSearchCV\n",
        "from sklearn.feature_selection import RFECV\n",
        "from sklearn.preprocessing import StandardScaler\n",
        "\n",
        "# Read the CSV file into a DataFrame\n",
        "data = pd.read_csv('/content/drive/MyDrive/JPMorgan_data [MConverter.eu].csv')\n",
        "# Remove duplicate rows from the DataFrame\n",
        "data =  data.drop_duplicates()\n",
        "# Drop rows with missing values from the DataFrame\n",
        "data = data.dropna()"
      ]
    },
    {
      "cell_type": "code",
      "execution_count": 28,
      "metadata": {
        "colab": {
          "base_uri": "https://localhost:8080/",
          "height": 423
        },
        "id": "N6OzeNxXshgU",
        "outputId": "8292cb3e-c696-4a0b-dea0-c149672f0e3d"
      },
      "outputs": [
        {
          "output_type": "execute_result",
          "data": {
            "text/plain": [
              "            High         Low       Close   Adj Close    Volume\n",
              "0      50.250000   48.083332   48.583332   24.406229  12019200\n",
              "1      47.458332   46.125000   47.250000   23.870722  11723400\n",
              "2      48.375000   46.000000   46.958332   23.723370   8714550\n",
              "3      48.625000   46.500000   47.625000   24.060169   8369250\n",
              "4      49.000000   47.333332   48.500000   24.502222   6571950\n",
              "...          ...         ...         ...         ...       ...\n",
              "5530  159.119995  157.210007  157.259995  150.152054   8055200\n",
              "5531  158.199997  156.339996  158.160004  151.011383   6188100\n",
              "5532  160.149994  158.080002  158.639999  151.469666   6342300\n",
              "5533  159.630005  158.149994  158.559998  151.393280   6398900\n",
              "5534  160.240005  158.369995  158.479996  151.316879   6948200\n",
              "\n",
              "[5535 rows x 5 columns]"
            ],
            "text/html": [
              "\n",
              "  <div id=\"df-415ae88e-0625-4462-9f8b-a60810ca7336\">\n",
              "    <div class=\"colab-df-container\">\n",
              "      <div>\n",
              "<style scoped>\n",
              "    .dataframe tbody tr th:only-of-type {\n",
              "        vertical-align: middle;\n",
              "    }\n",
              "\n",
              "    .dataframe tbody tr th {\n",
              "        vertical-align: top;\n",
              "    }\n",
              "\n",
              "    .dataframe thead th {\n",
              "        text-align: right;\n",
              "    }\n",
              "</style>\n",
              "<table border=\"1\" class=\"dataframe\">\n",
              "  <thead>\n",
              "    <tr style=\"text-align: right;\">\n",
              "      <th></th>\n",
              "      <th>High</th>\n",
              "      <th>Low</th>\n",
              "      <th>Close</th>\n",
              "      <th>Adj Close</th>\n",
              "      <th>Volume</th>\n",
              "    </tr>\n",
              "  </thead>\n",
              "  <tbody>\n",
              "    <tr>\n",
              "      <th>0</th>\n",
              "      <td>50.250000</td>\n",
              "      <td>48.083332</td>\n",
              "      <td>48.583332</td>\n",
              "      <td>24.406229</td>\n",
              "      <td>12019200</td>\n",
              "    </tr>\n",
              "    <tr>\n",
              "      <th>1</th>\n",
              "      <td>47.458332</td>\n",
              "      <td>46.125000</td>\n",
              "      <td>47.250000</td>\n",
              "      <td>23.870722</td>\n",
              "      <td>11723400</td>\n",
              "    </tr>\n",
              "    <tr>\n",
              "      <th>2</th>\n",
              "      <td>48.375000</td>\n",
              "      <td>46.000000</td>\n",
              "      <td>46.958332</td>\n",
              "      <td>23.723370</td>\n",
              "      <td>8714550</td>\n",
              "    </tr>\n",
              "    <tr>\n",
              "      <th>3</th>\n",
              "      <td>48.625000</td>\n",
              "      <td>46.500000</td>\n",
              "      <td>47.625000</td>\n",
              "      <td>24.060169</td>\n",
              "      <td>8369250</td>\n",
              "    </tr>\n",
              "    <tr>\n",
              "      <th>4</th>\n",
              "      <td>49.000000</td>\n",
              "      <td>47.333332</td>\n",
              "      <td>48.500000</td>\n",
              "      <td>24.502222</td>\n",
              "      <td>6571950</td>\n",
              "    </tr>\n",
              "    <tr>\n",
              "      <th>...</th>\n",
              "      <td>...</td>\n",
              "      <td>...</td>\n",
              "      <td>...</td>\n",
              "      <td>...</td>\n",
              "      <td>...</td>\n",
              "    </tr>\n",
              "    <tr>\n",
              "      <th>5530</th>\n",
              "      <td>159.119995</td>\n",
              "      <td>157.210007</td>\n",
              "      <td>157.259995</td>\n",
              "      <td>150.152054</td>\n",
              "      <td>8055200</td>\n",
              "    </tr>\n",
              "    <tr>\n",
              "      <th>5531</th>\n",
              "      <td>158.199997</td>\n",
              "      <td>156.339996</td>\n",
              "      <td>158.160004</td>\n",
              "      <td>151.011383</td>\n",
              "      <td>6188100</td>\n",
              "    </tr>\n",
              "    <tr>\n",
              "      <th>5532</th>\n",
              "      <td>160.149994</td>\n",
              "      <td>158.080002</td>\n",
              "      <td>158.639999</td>\n",
              "      <td>151.469666</td>\n",
              "      <td>6342300</td>\n",
              "    </tr>\n",
              "    <tr>\n",
              "      <th>5533</th>\n",
              "      <td>159.630005</td>\n",
              "      <td>158.149994</td>\n",
              "      <td>158.559998</td>\n",
              "      <td>151.393280</td>\n",
              "      <td>6398900</td>\n",
              "    </tr>\n",
              "    <tr>\n",
              "      <th>5534</th>\n",
              "      <td>160.240005</td>\n",
              "      <td>158.369995</td>\n",
              "      <td>158.479996</td>\n",
              "      <td>151.316879</td>\n",
              "      <td>6948200</td>\n",
              "    </tr>\n",
              "  </tbody>\n",
              "</table>\n",
              "<p>5535 rows × 5 columns</p>\n",
              "</div>\n",
              "      <button class=\"colab-df-convert\" onclick=\"convertToInteractive('df-415ae88e-0625-4462-9f8b-a60810ca7336')\"\n",
              "              title=\"Convert this dataframe to an interactive table.\"\n",
              "              style=\"display:none;\">\n",
              "        \n",
              "  <svg xmlns=\"http://www.w3.org/2000/svg\" height=\"24px\"viewBox=\"0 0 24 24\"\n",
              "       width=\"24px\">\n",
              "    <path d=\"M0 0h24v24H0V0z\" fill=\"none\"/>\n",
              "    <path d=\"M18.56 5.44l.94 2.06.94-2.06 2.06-.94-2.06-.94-.94-2.06-.94 2.06-2.06.94zm-11 1L8.5 8.5l.94-2.06 2.06-.94-2.06-.94L8.5 2.5l-.94 2.06-2.06.94zm10 10l.94 2.06.94-2.06 2.06-.94-2.06-.94-.94-2.06-.94 2.06-2.06.94z\"/><path d=\"M17.41 7.96l-1.37-1.37c-.4-.4-.92-.59-1.43-.59-.52 0-1.04.2-1.43.59L10.3 9.45l-7.72 7.72c-.78.78-.78 2.05 0 2.83L4 21.41c.39.39.9.59 1.41.59.51 0 1.02-.2 1.41-.59l7.78-7.78 2.81-2.81c.8-.78.8-2.07 0-2.86zM5.41 20L4 18.59l7.72-7.72 1.47 1.35L5.41 20z\"/>\n",
              "  </svg>\n",
              "      </button>\n",
              "      \n",
              "  <style>\n",
              "    .colab-df-container {\n",
              "      display:flex;\n",
              "      flex-wrap:wrap;\n",
              "      gap: 12px;\n",
              "    }\n",
              "\n",
              "    .colab-df-convert {\n",
              "      background-color: #E8F0FE;\n",
              "      border: none;\n",
              "      border-radius: 50%;\n",
              "      cursor: pointer;\n",
              "      display: none;\n",
              "      fill: #1967D2;\n",
              "      height: 32px;\n",
              "      padding: 0 0 0 0;\n",
              "      width: 32px;\n",
              "    }\n",
              "\n",
              "    .colab-df-convert:hover {\n",
              "      background-color: #E2EBFA;\n",
              "      box-shadow: 0px 1px 2px rgba(60, 64, 67, 0.3), 0px 1px 3px 1px rgba(60, 64, 67, 0.15);\n",
              "      fill: #174EA6;\n",
              "    }\n",
              "\n",
              "    [theme=dark] .colab-df-convert {\n",
              "      background-color: #3B4455;\n",
              "      fill: #D2E3FC;\n",
              "    }\n",
              "\n",
              "    [theme=dark] .colab-df-convert:hover {\n",
              "      background-color: #434B5C;\n",
              "      box-shadow: 0px 1px 3px 1px rgba(0, 0, 0, 0.15);\n",
              "      filter: drop-shadow(0px 1px 2px rgba(0, 0, 0, 0.3));\n",
              "      fill: #FFFFFF;\n",
              "    }\n",
              "  </style>\n",
              "\n",
              "      <script>\n",
              "        const buttonEl =\n",
              "          document.querySelector('#df-415ae88e-0625-4462-9f8b-a60810ca7336 button.colab-df-convert');\n",
              "        buttonEl.style.display =\n",
              "          google.colab.kernel.accessAllowed ? 'block' : 'none';\n",
              "\n",
              "        async function convertToInteractive(key) {\n",
              "          const element = document.querySelector('#df-415ae88e-0625-4462-9f8b-a60810ca7336');\n",
              "          const dataTable =\n",
              "            await google.colab.kernel.invokeFunction('convertToInteractive',\n",
              "                                                     [key], {});\n",
              "          if (!dataTable) return;\n",
              "\n",
              "          const docLinkHtml = 'Like what you see? Visit the ' +\n",
              "            '<a target=\"_blank\" href=https://colab.research.google.com/notebooks/data_table.ipynb>data table notebook</a>'\n",
              "            + ' to learn more about interactive tables.';\n",
              "          element.innerHTML = '';\n",
              "          dataTable['output_type'] = 'display_data';\n",
              "          await google.colab.output.renderOutput(dataTable, element);\n",
              "          const docLink = document.createElement('div');\n",
              "          docLink.innerHTML = docLinkHtml;\n",
              "          element.appendChild(docLink);\n",
              "        }\n",
              "      </script>\n",
              "    </div>\n",
              "  </div>\n",
              "  "
            ]
          },
          "metadata": {},
          "execution_count": 28
        }
      ],
      "source": [
        "# Seperating our signals(X) and price(y)\n",
        "Xcols = data.columns[data.columns.str.contains(\"High\")| data.columns.str.contains(\"Low\")|data.columns.str.contains(\"Close\")|data.columns.str.contains(\"Adj\")|data.columns.str.contains(\"Volume\")]\n",
        "X = data[Xcols]\n",
        "X\n"
      ]
    },
    {
      "cell_type": "code",
      "execution_count": 29,
      "metadata": {
        "colab": {
          "base_uri": "https://localhost:8080/"
        },
        "id": "8keylhE6P9Sg",
        "outputId": "29b53571-005c-44c0-cd0c-2e540820f6db"
      },
      "outputs": [
        {
          "output_type": "execute_result",
          "data": {
            "text/plain": [
              "0        49.833332\n",
              "1        47.083332\n",
              "2        46.833332\n",
              "3        46.750000\n",
              "4        48.416668\n",
              "           ...    \n",
              "5530    157.610001\n",
              "5531    157.600006\n",
              "5532    158.199997\n",
              "5533    158.850006\n",
              "5534    159.110001\n",
              "Name: Open, Length: 5535, dtype: float64"
            ]
          },
          "metadata": {},
          "execution_count": 29
        }
      ],
      "source": [
        "y = data['Open']\n",
        "y"
      ]
    },
    {
      "cell_type": "code",
      "execution_count": 30,
      "metadata": {
        "colab": {
          "base_uri": "https://localhost:8080/"
        },
        "id": "UFS_XqMrFcP8",
        "outputId": "91d752a8-8095-46ba-f75d-fb82c50cae14"
      },
      "outputs": [
        {
          "output_type": "stream",
          "name": "stdout",
          "text": [
            "Drive already mounted at /content/drive; to attempt to forcibly remount, call drive.mount(\"/content/drive\", force_remount=True).\n"
          ]
        }
      ],
      "source": [
        "from google.colab import drive\n",
        "drive.mount('/content/drive')"
      ]
    },
    {
      "cell_type": "markdown",
      "metadata": {
        "id": "Orms2B41SbA7"
      },
      "source": [
        "# **Identifying and Quantifying**\n",
        "\n",
        "\n",
        "\n"
      ]
    },
    {
      "cell_type": "code",
      "execution_count": 31,
      "metadata": {
        "colab": {
          "base_uri": "https://localhost:8080/",
          "height": 500
        },
        "id": "E4g9sFINgRbD",
        "outputId": "9d317b61-25eb-47ff-994f-14906c5eef19"
      },
      "outputs": [
        {
          "output_type": "stream",
          "name": "stdout",
          "text": [
            "High         0.999765\n",
            "Low          0.999752\n",
            "Close        0.999559\n",
            "Adj Close    0.993736\n",
            "Volume      -0.238539\n",
            "dtype: float64\n"
          ]
        },
        {
          "output_type": "display_data",
          "data": {
            "text/plain": [
              "<Figure size 800x400 with 2 Axes>"
            ],
            "image/png": "[encoded data removed]"
          },
          "metadata": {}
        }
      ],
      "source": [
        "# Calculate the correlation between each signal and the price\n",
        "correlation_with_Open = X.iloc[:, :].corrwith(data['Open'])\n",
        "\n",
        "# Sort the correlation values in descending order\n",
        "correlation_with_Open = correlation_with_Open.sort_values(ascending=False)\n",
        "\n",
        "# Display the correlation values\n",
        "print(correlation_with_Open)\n",
        "\n",
        "# Reshape correlation values into a DataFrame for heatmap\n",
        "correlation_X = pd.DataFrame(correlation_with_Open, columns=['Correlation'])\n",
        "correlation_X = correlation_X.transpose()\n",
        "\n",
        "# Create a heatmap\n",
        "plt.figure(figsize=(8, 4))\n",
        "sns.heatmap(correlation_X, cmap='coolwarm', annot=True, cbar=True)\n",
        "plt.title('Correlation with Price Heatmap')\n",
        "plt.show()"
      ]
    },
    {
      "cell_type": "markdown",
      "metadata": {
        "id": "2m1IL5fok09o"
      },
      "source": [
        "If you observe the heatmap Signal3 and Signal4 are negatively correlated &\n",
        "Signal1, Signal2, Signal5, Signal6, Signal7 are positively corelated with the price."
      ]
    },
    {
      "cell_type": "markdown",
      "metadata": {
        "id": "Hc23ToYhl7XU"
      },
      "source": [
        "# **Utilization of Feauters**"
      ]
    },
    {
      "cell_type": "markdown",
      "metadata": {
        "id": "G3ht9y51s934"
      },
      "source": [
        "## **Addition of Features**"
      ]
    },
    {
      "cell_type": "code",
      "execution_count": 32,
      "metadata": {
        "id": "mvifocJ4mCvF"
      },
      "outputs": [],
      "source": [
        "# Addition of Features to immprove the Model\n",
        "\n",
        "new_data = data.copy()"
      ]
    },
    {
      "cell_type": "code",
      "execution_count": 33,
      "metadata": {
        "id": "Dz3PpIXKm4MI"
      },
      "outputs": [],
      "source": [
        "# Defining new features\n",
        "def make_new_feature(data, cols, powers, new_col_name):\n",
        "    data[new_col_name] = 1\n",
        "    for power, col  in zip(powers, cols):\n",
        "        data[new_col_name] = np.cos(data[new_col_name]) * np.sin((data[Xcols[col]]) ** power)\n",
        "\n",
        "    return data\n",
        "\n",
        "def make_new_feature1(data, cols, powers, new_col_name):\n",
        "    data[new_col_name] = 1\n",
        "    for power, col  in zip(powers, cols):\n",
        "        data[new_col_name] = (data[new_col_name]) * np.sin((data[Xcols[col]]) ** power)\n",
        "\n",
        "    return data\n",
        "\n",
        "\n"
      ]
    },
    {
      "cell_type": "code",
      "execution_count": 34,
      "metadata": {
        "id": "ngCI2omvnFuU"
      },
      "outputs": [],
      "source": [
        "# New features\n"
      ]
    },
    {
      "cell_type": "code",
      "execution_count": 35,
      "metadata": {
        "colab": {
          "base_uri": "https://localhost:8080/",
          "height": 423
        },
        "id": "kFV7qyfIo4-s",
        "outputId": "416b3bb0-cf53-4d8b-97c5-909a768e1096"
      },
      "outputs": [
        {
          "output_type": "execute_result",
          "data": {
            "text/plain": [
              "            High         Low       Close   Adj Close    Volume\n",
              "0      50.250000   48.083332   48.583332   24.406229  12019200\n",
              "1      47.458332   46.125000   47.250000   23.870722  11723400\n",
              "2      48.375000   46.000000   46.958332   23.723370   8714550\n",
              "3      48.625000   46.500000   47.625000   24.060169   8369250\n",
              "4      49.000000   47.333332   48.500000   24.502222   6571950\n",
              "...          ...         ...         ...         ...       ...\n",
              "5530  159.119995  157.210007  157.259995  150.152054   8055200\n",
              "5531  158.199997  156.339996  158.160004  151.011383   6188100\n",
              "5532  160.149994  158.080002  158.639999  151.469666   6342300\n",
              "5533  159.630005  158.149994  158.559998  151.393280   6398900\n",
              "5534  160.240005  158.369995  158.479996  151.316879   6948200\n",
              "\n",
              "[5535 rows x 5 columns]"
            ],
            "text/html": [
              "\n",
              "  <div id=\"df-567516ba-c892-4126-b597-64c65d6561d7\">\n",
              "    <div class=\"colab-df-container\">\n",
              "      <div>\n",
              "<style scoped>\n",
              "    .dataframe tbody tr th:only-of-type {\n",
              "        vertical-align: middle;\n",
              "    }\n",
              "\n",
              "    .dataframe tbody tr th {\n",
              "        vertical-align: top;\n",
              "    }\n",
              "\n",
              "    .dataframe thead th {\n",
              "        text-align: right;\n",
              "    }\n",
              "</style>\n",
              "<table border=\"1\" class=\"dataframe\">\n",
              "  <thead>\n",
              "    <tr style=\"text-align: right;\">\n",
              "      <th></th>\n",
              "      <th>High</th>\n",
              "      <th>Low</th>\n",
              "      <th>Close</th>\n",
              "      <th>Adj Close</th>\n",
              "      <th>Volume</th>\n",
              "    </tr>\n",
              "  </thead>\n",
              "  <tbody>\n",
              "    <tr>\n",
              "      <th>0</th>\n",
              "      <td>50.250000</td>\n",
              "      <td>48.083332</td>\n",
              "      <td>48.583332</td>\n",
              "      <td>24.406229</td>\n",
              "      <td>12019200</td>\n",
              "    </tr>\n",
              "    <tr>\n",
              "      <th>1</th>\n",
              "      <td>47.458332</td>\n",
              "      <td>46.125000</td>\n",
              "      <td>47.250000</td>\n",
              "      <td>23.870722</td>\n",
              "      <td>11723400</td>\n",
              "    </tr>\n",
              "    <tr>\n",
              "      <th>2</th>\n",
              "      <td>48.375000</td>\n",
              "      <td>46.000000</td>\n",
              "      <td>46.958332</td>\n",
              "      <td>23.723370</td>\n",
              "      <td>8714550</td>\n",
              "    </tr>\n",
              "    <tr>\n",
              "      <th>3</th>\n",
              "      <td>48.625000</td>\n",
              "      <td>46.500000</td>\n",
              "      <td>47.625000</td>\n",
              "      <td>24.060169</td>\n",
              "      <td>8369250</td>\n",
              "    </tr>\n",
              "    <tr>\n",
              "      <th>4</th>\n",
              "      <td>49.000000</td>\n",
              "      <td>47.333332</td>\n",
              "      <td>48.500000</td>\n",
              "      <td>24.502222</td>\n",
              "      <td>6571950</td>\n",
              "    </tr>\n",
              "    <tr>\n",
              "      <th>...</th>\n",
              "      <td>...</td>\n",
              "      <td>...</td>\n",
              "      <td>...</td>\n",
              "      <td>...</td>\n",
              "      <td>...</td>\n",
              "    </tr>\n",
              "    <tr>\n",
              "      <th>5530</th>\n",
              "      <td>159.119995</td>\n",
              "      <td>157.210007</td>\n",
              "      <td>157.259995</td>\n",
              "      <td>150.152054</td>\n",
              "      <td>8055200</td>\n",
              "    </tr>\n",
              "    <tr>\n",
              "      <th>5531</th>\n",
              "      <td>158.199997</td>\n",
              "      <td>156.339996</td>\n",
              "      <td>158.160004</td>\n",
              "      <td>151.011383</td>\n",
              "      <td>6188100</td>\n",
              "    </tr>\n",
              "    <tr>\n",
              "      <th>5532</th>\n",
              "      <td>160.149994</td>\n",
              "      <td>158.080002</td>\n",
              "      <td>158.639999</td>\n",
              "      <td>151.469666</td>\n",
              "      <td>6342300</td>\n",
              "    </tr>\n",
              "    <tr>\n",
              "      <th>5533</th>\n",
              "      <td>159.630005</td>\n",
              "      <td>158.149994</td>\n",
              "      <td>158.559998</td>\n",
              "      <td>151.393280</td>\n",
              "      <td>6398900</td>\n",
              "    </tr>\n",
              "    <tr>\n",
              "      <th>5534</th>\n",
              "      <td>160.240005</td>\n",
              "      <td>158.369995</td>\n",
              "      <td>158.479996</td>\n",
              "      <td>151.316879</td>\n",
              "      <td>6948200</td>\n",
              "    </tr>\n",
              "  </tbody>\n",
              "</table>\n",
              "<p>5535 rows × 5 columns</p>\n",
              "</div>\n",
              "      <button class=\"colab-df-convert\" onclick=\"convertToInteractive('df-567516ba-c892-4126-b597-64c65d6561d7')\"\n",
              "              title=\"Convert this dataframe to an interactive table.\"\n",
              "              style=\"display:none;\">\n",
              "        \n",
              "  <svg xmlns=\"http://www.w3.org/2000/svg\" height=\"24px\"viewBox=\"0 0 24 24\"\n",
              "       width=\"24px\">\n",
              "    <path d=\"M0 0h24v24H0V0z\" fill=\"none\"/>\n",
              "    <path d=\"M18.56 5.44l.94 2.06.94-2.06 2.06-.94-2.06-.94-.94-2.06-.94 2.06-2.06.94zm-11 1L8.5 8.5l.94-2.06 2.06-.94-2.06-.94L8.5 2.5l-.94 2.06-2.06.94zm10 10l.94 2.06.94-2.06 2.06-.94-2.06-.94-.94-2.06-.94 2.06-2.06.94z\"/><path d=\"M17.41 7.96l-1.37-1.37c-.4-.4-.92-.59-1.43-.59-.52 0-1.04.2-1.43.59L10.3 9.45l-7.72 7.72c-.78.78-.78 2.05 0 2.83L4 21.41c.39.39.9.59 1.41.59.51 0 1.02-.2 1.41-.59l7.78-7.78 2.81-2.81c.8-.78.8-2.07 0-2.86zM5.41 20L4 18.59l7.72-7.72 1.47 1.35L5.41 20z\"/>\n",
              "  </svg>\n",
              "      </button>\n",
              "      \n",
              "  <style>\n",
              "    .colab-df-container {\n",
              "      display:flex;\n",
              "      flex-wrap:wrap;\n",
              "      gap: 12px;\n",
              "    }\n",
              "\n",
              "    .colab-df-convert {\n",
              "      background-color: #E8F0FE;\n",
              "      border: none;\n",
              "      border-radius: 50%;\n",
              "      cursor: pointer;\n",
              "      display: none;\n",
              "      fill: #1967D2;\n",
              "      height: 32px;\n",
              "      padding: 0 0 0 0;\n",
              "      width: 32px;\n",
              "    }\n",
              "\n",
              "    .colab-df-convert:hover {\n",
              "      background-color: #E2EBFA;\n",
              "      box-shadow: 0px 1px 2px rgba(60, 64, 67, 0.3), 0px 1px 3px 1px rgba(60, 64, 67, 0.15);\n",
              "      fill: #174EA6;\n",
              "    }\n",
              "\n",
              "    [theme=dark] .colab-df-convert {\n",
              "      background-color: #3B4455;\n",
              "      fill: #D2E3FC;\n",
              "    }\n",
              "\n",
              "    [theme=dark] .colab-df-convert:hover {\n",
              "      background-color: #434B5C;\n",
              "      box-shadow: 0px 1px 3px 1px rgba(0, 0, 0, 0.15);\n",
              "      filter: drop-shadow(0px 1px 2px rgba(0, 0, 0, 0.3));\n",
              "      fill: #FFFFFF;\n",
              "    }\n",
              "  </style>\n",
              "\n",
              "      <script>\n",
              "        const buttonEl =\n",
              "          document.querySelector('#df-567516ba-c892-4126-b597-64c65d6561d7 button.colab-df-convert');\n",
              "        buttonEl.style.display =\n",
              "          google.colab.kernel.accessAllowed ? 'block' : 'none';\n",
              "\n",
              "        async function convertToInteractive(key) {\n",
              "          const element = document.querySelector('#df-567516ba-c892-4126-b597-64c65d6561d7');\n",
              "          const dataTable =\n",
              "            await google.colab.kernel.invokeFunction('convertToInteractive',\n",
              "                                                     [key], {});\n",
              "          if (!dataTable) return;\n",
              "\n",
              "          const docLinkHtml = 'Like what you see? Visit the ' +\n",
              "            '<a target=\"_blank\" href=https://colab.research.google.com/notebooks/data_table.ipynb>data table notebook</a>'\n",
              "            + ' to learn more about interactive tables.';\n",
              "          element.innerHTML = '';\n",
              "          dataTable['output_type'] = 'display_data';\n",
              "          await google.colab.output.renderOutput(dataTable, element);\n",
              "          const docLink = document.createElement('div');\n",
              "          docLink.innerHTML = docLinkHtml;\n",
              "          element.appendChild(docLink);\n",
              "        }\n",
              "      </script>\n",
              "    </div>\n",
              "  </div>\n",
              "  "
            ]
          },
          "metadata": {},
          "execution_count": 35
        }
      ],
      "source": [
        "# New data set formed after addition of new features\n",
        "Xcols = new_data.columns[new_data.columns.str.contains(\"C.\")|new_data.columns.str.contains(\"H\")|new_data.columns.str.contains(\"V\")|new_data.columns.str.contains(\"L\")]\n",
        "X = new_data[Xcols]\n",
        "X"
      ]
    },
    {
      "cell_type": "markdown",
      "metadata": {
        "id": "q7jaCkjLZDEH"
      },
      "source": [
        "## **Linear Regresson**"
      ]
    },
    {
      "cell_type": "code",
      "execution_count": 36,
      "metadata": {
        "colab": {
          "base_uri": "https://localhost:8080/",
          "height": 1000
        },
        "id": "BWZ4eiBPtMgX",
        "outputId": "9ebe6409-2645-4c62-8756-adbf1f0c8b69"
      },
      "outputs": [
        {
          "output_type": "display_data",
          "data": {
            "text/plain": [
              "<Figure size 640x480 with 1 Axes>"
            ],
            "image/png": "[encoded data removed]"
          },
          "metadata": {}
        },
        {
          "output_type": "stream",
          "name": "stdout",
          "text": [
            "Root mean squared error: 0.42\n",
            "Coefficient of determination: 1.00\n"
          ]
        },
        {
          "output_type": "display_data",
          "data": {
            "text/plain": [
              "<Figure size 640x480 with 1 Axes>"
            ],
            "image/png": "[encoded data removed]"
          },
          "metadata": {}
        },
        {
          "output_type": "stream",
          "name": "stdout",
          "text": [
            "Root mean squared error: 0.37\n",
            "Coefficient of determination: 0.99\n"
          ]
        },
        {
          "output_type": "display_data",
          "data": {
            "text/plain": [
              "<Figure size 640x480 with 1 Axes>"
            ],
            "image/png": "[encoded data removed]"
          },
          "metadata": {}
        },
        {
          "output_type": "stream",
          "name": "stdout",
          "text": [
            "Root mean squared error: 0.34\n",
            "Coefficient of determination: 1.00\n"
          ]
        },
        {
          "output_type": "display_data",
          "data": {
            "text/plain": [
              "<Figure size 640x480 with 1 Axes>"
            ],
            "image/png": "[encoded data removed]"
          },
          "metadata": {}
        },
        {
          "output_type": "stream",
          "name": "stdout",
          "text": [
            "Root mean squared error: 0.34\n",
            "Coefficient of determination: 1.00\n"
          ]
        },
        {
          "output_type": "display_data",
          "data": {
            "text/plain": [
              "<Figure size 640x480 with 1 Axes>"
            ],
            "image/png": "[encoded data removed]"
          },
          "metadata": {}
        },
        {
          "output_type": "stream",
          "name": "stdout",
          "text": [
            "Root mean squared error: 0.71\n",
            "Coefficient of determination: 1.00\n"
          ]
        }
      ],
      "source": [
        "linear_reg = LinearRegression(fit_intercept=False)\n",
        "# training model using 5 Fold Cross Validation\n",
        "kf = KFold(n_splits=5)\n",
        "\n",
        "errors = []\n",
        "\n",
        "#  Split the features (X) and target (y) into train and test sets\n",
        "for idx, (train, test) in enumerate(kf.split(X)):\n",
        "    X_train = X.values[train]\n",
        "    X_test = X.values[test]\n",
        "\n",
        "    y_train = y.values[train]\n",
        "    y_test = y.values[test]\n",
        "\n",
        "    # Fit the linear regression model to the train set\n",
        "    model = linear_reg.fit(X_train,y_train)\n",
        "    # Predict the target values for the test set\n",
        "    y_pred_test = model.predict(X_test)\n",
        "    # Predict the target values for the train set\n",
        "    y_pred_train = model.predict(X_train)\n",
        "\n",
        "    # Compute the root mean squared error (RMSE) for the test set\n",
        "    rmse_test = np.sqrt(mean_squared_error(y_test, y_pred_test))\n",
        "    # Compute the root mean squared error (RMSE) for the train set\n",
        "    rmse_train = np.sqrt(mean_squared_error(y_train, y_pred_train))\n",
        "\n",
        "    #Compute the coefficient of determination (R^2) for the test set\n",
        "    r2_test = r2_score(y_test, y_pred_test)\n",
        "    # Compute the coefficient of determination (R^2) for the train set\n",
        "    r2_train = r2_score(y_train, y_pred_train)\n",
        "\n",
        "    #Plot the scatter plot of real price vs predicted price for the test set\n",
        "    plt.scatter(y_test, y_pred_test, color='b')\n",
        "    plt.xlabel('Real Price')\n",
        "    plt.ylabel('Predicted Price')\n",
        "    plt.show()\n",
        "\n",
        "    # Print the root mean squared error (RMSE) for the test set\n",
        "    print(\"Root mean squared error: %.2f\" % rmse_test)\n",
        "    # Print the coefficient of determination (R^2) for the test set\n",
        "    print(\"Coefficient of determination: %.2f\" % r2_test)\n",
        "\n",
        "    # Create a list of error metrics\n",
        "    error = {'kfold': idx+1,\n",
        "             'rmse_train': rmse_train,\n",
        "             'r2_train': r2_train,\n",
        "             'rmse_test': rmse_test,\n",
        "             'r2_test': r2_test\n",
        "            }\n",
        "    # Append the error metrics to the list of errors\n",
        "    errors.append(error)"
      ]
    },
    {
      "cell_type": "code",
      "execution_count": 37,
      "metadata": {
        "colab": {
          "base_uri": "https://localhost:8080/",
          "height": 206
        },
        "id": "GbjjQFh4yxJb",
        "outputId": "d1b8041a-a4e4-48b6-d05f-e314aa0f89c0"
      },
      "outputs": [
        {
          "output_type": "execute_result",
          "data": {
            "text/plain": [
              "   kfold  rmse_train  r2_train  rmse_test   r2_test\n",
              "0      1    0.463498  0.999824   0.419314  0.998157\n",
              "1      2    0.474190  0.999825   0.367905  0.994736\n",
              "2      3    0.478885  0.999816   0.344239  0.996653\n",
              "3      4    0.479247  0.999832   0.341486  0.999106\n",
              "4      5    0.366901  0.999283   0.711959  0.999010"
            ],
            "text/html": [
              "\n",
              "  <div id=\"df-fb751873-585c-4bd1-a560-56d3c17700cf\">\n",
              "    <div class=\"colab-df-container\">\n",
              "      <div>\n",
              "<style scoped>\n",
              "    .dataframe tbody tr th:only-of-type {\n",
              "        vertical-align: middle;\n",
              "    }\n",
              "\n",
              "    .dataframe tbody tr th {\n",
              "        vertical-align: top;\n",
              "    }\n",
              "\n",
              "    .dataframe thead th {\n",
              "        text-align: right;\n",
              "    }\n",
              "</style>\n",
              "<table border=\"1\" class=\"dataframe\">\n",
              "  <thead>\n",
              "    <tr style=\"text-align: right;\">\n",
              "      <th></th>\n",
              "      <th>kfold</th>\n",
              "      <th>rmse_train</th>\n",
              "      <th>r2_train</th>\n",
              "      <th>rmse_test</th>\n",
              "      <th>r2_test</th>\n",
              "    </tr>\n",
              "  </thead>\n",
              "  <tbody>\n",
              "    <tr>\n",
              "      <th>0</th>\n",
              "      <td>1</td>\n",
              "      <td>0.463498</td>\n",
              "      <td>0.999824</td>\n",
              "      <td>0.419314</td>\n",
              "      <td>0.998157</td>\n",
              "    </tr>\n",
              "    <tr>\n",
              "      <th>1</th>\n",
              "      <td>2</td>\n",
              "      <td>0.474190</td>\n",
              "      <td>0.999825</td>\n",
              "      <td>0.367905</td>\n",
              "      <td>0.994736</td>\n",
              "    </tr>\n",
              "    <tr>\n",
              "      <th>2</th>\n",
              "      <td>3</td>\n",
              "      <td>0.478885</td>\n",
              "      <td>0.999816</td>\n",
              "      <td>0.344239</td>\n",
              "      <td>0.996653</td>\n",
              "    </tr>\n",
              "    <tr>\n",
              "      <th>3</th>\n",
              "      <td>4</td>\n",
              "      <td>0.479247</td>\n",
              "      <td>0.999832</td>\n",
              "      <td>0.341486</td>\n",
              "      <td>0.999106</td>\n",
              "    </tr>\n",
              "    <tr>\n",
              "      <th>4</th>\n",
              "      <td>5</td>\n",
              "      <td>0.366901</td>\n",
              "      <td>0.999283</td>\n",
              "      <td>0.711959</td>\n",
              "      <td>0.999010</td>\n",
              "    </tr>\n",
              "  </tbody>\n",
              "</table>\n",
              "</div>\n",
              "      <button class=\"colab-df-convert\" onclick=\"convertToInteractive('df-fb751873-585c-4bd1-a560-56d3c17700cf')\"\n",
              "              title=\"Convert this dataframe to an interactive table.\"\n",
              "              style=\"display:none;\">\n",
              "        \n",
              "  <svg xmlns=\"http://www.w3.org/2000/svg\" height=\"24px\"viewBox=\"0 0 24 24\"\n",
              "       width=\"24px\">\n",
              "    <path d=\"M0 0h24v24H0V0z\" fill=\"none\"/>\n",
              "    <path d=\"M18.56 5.44l.94 2.06.94-2.06 2.06-.94-2.06-.94-.94-2.06-.94 2.06-2.06.94zm-11 1L8.5 8.5l.94-2.06 2.06-.94-2.06-.94L8.5 2.5l-.94 2.06-2.06.94zm10 10l.94 2.06.94-2.06 2.06-.94-2.06-.94-.94-2.06-.94 2.06-2.06.94z\"/><path d=\"M17.41 7.96l-1.37-1.37c-.4-.4-.92-.59-1.43-.59-.52 0-1.04.2-1.43.59L10.3 9.45l-7.72 7.72c-.78.78-.78 2.05 0 2.83L4 21.41c.39.39.9.59 1.41.59.51 0 1.02-.2 1.41-.59l7.78-7.78 2.81-2.81c.8-.78.8-2.07 0-2.86zM5.41 20L4 18.59l7.72-7.72 1.47 1.35L5.41 20z\"/>\n",
              "  </svg>\n",
              "      </button>\n",
              "      \n",
              "  <style>\n",
              "    .colab-df-container {\n",
              "      display:flex;\n",
              "      flex-wrap:wrap;\n",
              "      gap: 12px;\n",
              "    }\n",
              "\n",
              "    .colab-df-convert {\n",
              "      background-color: #E8F0FE;\n",
              "      border: none;\n",
              "      border-radius: 50%;\n",
              "      cursor: pointer;\n",
              "      display: none;\n",
              "      fill: #1967D2;\n",
              "      height: 32px;\n",
              "      padding: 0 0 0 0;\n",
              "      width: 32px;\n",
              "    }\n",
              "\n",
              "    .colab-df-convert:hover {\n",
              "      background-color: #E2EBFA;\n",
              "      box-shadow: 0px 1px 2px rgba(60, 64, 67, 0.3), 0px 1px 3px 1px rgba(60, 64, 67, 0.15);\n",
              "      fill: #174EA6;\n",
              "    }\n",
              "\n",
              "    [theme=dark] .colab-df-convert {\n",
              "      background-color: #3B4455;\n",
              "      fill: #D2E3FC;\n",
              "    }\n",
              "\n",
              "    [theme=dark] .colab-df-convert:hover {\n",
              "      background-color: #434B5C;\n",
              "      box-shadow: 0px 1px 3px 1px rgba(0, 0, 0, 0.15);\n",
              "      filter: drop-shadow(0px 1px 2px rgba(0, 0, 0, 0.3));\n",
              "      fill: #FFFFFF;\n",
              "    }\n",
              "  </style>\n",
              "\n",
              "      <script>\n",
              "        const buttonEl =\n",
              "          document.querySelector('#df-fb751873-585c-4bd1-a560-56d3c17700cf button.colab-df-convert');\n",
              "        buttonEl.style.display =\n",
              "          google.colab.kernel.accessAllowed ? 'block' : 'none';\n",
              "\n",
              "        async function convertToInteractive(key) {\n",
              "          const element = document.querySelector('#df-fb751873-585c-4bd1-a560-56d3c17700cf');\n",
              "          const dataTable =\n",
              "            await google.colab.kernel.invokeFunction('convertToInteractive',\n",
              "                                                     [key], {});\n",
              "          if (!dataTable) return;\n",
              "\n",
              "          const docLinkHtml = 'Like what you see? Visit the ' +\n",
              "            '<a target=\"_blank\" href=https://colab.research.google.com/notebooks/data_table.ipynb>data table notebook</a>'\n",
              "            + ' to learn more about interactive tables.';\n",
              "          element.innerHTML = '';\n",
              "          dataTable['output_type'] = 'display_data';\n",
              "          await google.colab.output.renderOutput(dataTable, element);\n",
              "          const docLink = document.createElement('div');\n",
              "          docLink.innerHTML = docLinkHtml;\n",
              "          element.appendChild(docLink);\n",
              "        }\n",
              "      </script>\n",
              "    </div>\n",
              "  </div>\n",
              "  "
            ]
          },
          "metadata": {},
          "execution_count": 37
        }
      ],
      "source": [
        "# Convert the list of error dictionaries into a pandas DataFrame\n",
        "errors = pd.DataFrame(errors)\n",
        "errors"
      ]
    },
    {
      "cell_type": "code",
      "execution_count": 38,
      "metadata": {
        "colab": {
          "base_uri": "https://localhost:8080/"
        },
        "id": "LW4D5Z1by74P",
        "outputId": "0d07a8d6-75c8-4605-f8bd-c13be283e56d"
      },
      "outputs": [
        {
          "output_type": "execute_result",
          "data": {
            "text/plain": [
              "rmse_test    0.436981\n",
              "r2_test      0.997532\n",
              "dtype: float64"
            ]
          },
          "metadata": {},
          "execution_count": 38
        }
      ],
      "source": [
        "# Precision of the model\n",
        "errors[['rmse_test','r2_test']].mean()\n"
      ]
    },
    {
      "cell_type": "markdown",
      "metadata": {
        "id": "JxqXL-n72q08"
      },
      "source": [
        "## **Polynomial Regression**"
      ]
    },
    {
      "cell_type": "code",
      "execution_count": 39,
      "metadata": {
        "colab": {
          "base_uri": "https://localhost:8080/",
          "height": 423
        },
        "id": "m4IkybZv2wFW",
        "outputId": "2230c444-589f-4684-fed0-4e7c53c09d1e"
      },
      "outputs": [
        {
          "output_type": "execute_result",
          "data": {
            "text/plain": [
              "            Date        Open        High         Low       Close   Adj Close  \\\n",
              "0     2000-01-03   49.833332   50.250000   48.083332   48.583332   24.406229   \n",
              "1     2000-01-04   47.083332   47.458332   46.125000   47.250000   23.870722   \n",
              "2     2000-01-05   46.833332   48.375000   46.000000   46.958332   23.723370   \n",
              "3     2000-01-06   46.750000   48.625000   46.500000   47.625000   24.060169   \n",
              "4     2000-01-07   48.416668   49.000000   47.333332   48.500000   24.502222   \n",
              "...          ...         ...         ...         ...         ...         ...   \n",
              "5530  2021-12-23  157.610001  159.119995  157.210007  157.259995  150.152054   \n",
              "5531  2021-12-27  157.600006  158.199997  156.339996  158.160004  151.011383   \n",
              "5532  2021-12-28  158.199997  160.149994  158.080002  158.639999  151.469666   \n",
              "5533  2021-12-29  158.850006  159.630005  158.149994  158.559998  151.393280   \n",
              "5534  2021-12-30  159.110001  160.240005  158.369995  158.479996  151.316879   \n",
              "\n",
              "        Volume  \n",
              "0     12019200  \n",
              "1     11723400  \n",
              "2      8714550  \n",
              "3      8369250  \n",
              "4      6571950  \n",
              "...        ...  \n",
              "5530   8055200  \n",
              "5531   6188100  \n",
              "5532   6342300  \n",
              "5533   6398900  \n",
              "5534   6948200  \n",
              "\n",
              "[5535 rows x 7 columns]"
            ],
            "text/html": [
              "\n",
              "  <div id=\"df-80594a9a-59c3-42cc-a90f-9229afc0aeec\">\n",
              "    <div class=\"colab-df-container\">\n",
              "      <div>\n",
              "<style scoped>\n",
              "    .dataframe tbody tr th:only-of-type {\n",
              "        vertical-align: middle;\n",
              "    }\n",
              "\n",
              "    .dataframe tbody tr th {\n",
              "        vertical-align: top;\n",
              "    }\n",
              "\n",
              "    .dataframe thead th {\n",
              "        text-align: right;\n",
              "    }\n",
              "</style>\n",
              "<table border=\"1\" class=\"dataframe\">\n",
              "  <thead>\n",
              "    <tr style=\"text-align: right;\">\n",
              "      <th></th>\n",
              "      <th>Date</th>\n",
              "      <th>Open</th>\n",
              "      <th>High</th>\n",
              "      <th>Low</th>\n",
              "      <th>Close</th>\n",
              "      <th>Adj Close</th>\n",
              "      <th>Volume</th>\n",
              "    </tr>\n",
              "  </thead>\n",
              "  <tbody>\n",
              "    <tr>\n",
              "      <th>0</th>\n",
              "      <td>2000-01-03</td>\n",
              "      <td>49.833332</td>\n",
              "      <td>50.250000</td>\n",
              "      <td>48.083332</td>\n",
              "      <td>48.583332</td>\n",
              "      <td>24.406229</td>\n",
              "      <td>12019200</td>\n",
              "    </tr>\n",
              "    <tr>\n",
              "      <th>1</th>\n",
              "      <td>2000-01-04</td>\n",
              "      <td>47.083332</td>\n",
              "      <td>47.458332</td>\n",
              "      <td>46.125000</td>\n",
              "      <td>47.250000</td>\n",
              "      <td>23.870722</td>\n",
              "      <td>11723400</td>\n",
              "    </tr>\n",
              "    <tr>\n",
              "      <th>2</th>\n",
              "      <td>2000-01-05</td>\n",
              "      <td>46.833332</td>\n",
              "      <td>48.375000</td>\n",
              "      <td>46.000000</td>\n",
              "      <td>46.958332</td>\n",
              "      <td>23.723370</td>\n",
              "      <td>8714550</td>\n",
              "    </tr>\n",
              "    <tr>\n",
              "      <th>3</th>\n",
              "      <td>2000-01-06</td>\n",
              "      <td>46.750000</td>\n",
              "      <td>48.625000</td>\n",
              "      <td>46.500000</td>\n",
              "      <td>47.625000</td>\n",
              "      <td>24.060169</td>\n",
              "      <td>8369250</td>\n",
              "    </tr>\n",
              "    <tr>\n",
              "      <th>4</th>\n",
              "      <td>2000-01-07</td>\n",
              "      <td>48.416668</td>\n",
              "      <td>49.000000</td>\n",
              "      <td>47.333332</td>\n",
              "      <td>48.500000</td>\n",
              "      <td>24.502222</td>\n",
              "      <td>6571950</td>\n",
              "    </tr>\n",
              "    <tr>\n",
              "      <th>...</th>\n",
              "      <td>...</td>\n",
              "      <td>...</td>\n",
              "      <td>...</td>\n",
              "      <td>...</td>\n",
              "      <td>...</td>\n",
              "      <td>...</td>\n",
              "      <td>...</td>\n",
              "    </tr>\n",
              "    <tr>\n",
              "      <th>5530</th>\n",
              "      <td>2021-12-23</td>\n",
              "      <td>157.610001</td>\n",
              "      <td>159.119995</td>\n",
              "      <td>157.210007</td>\n",
              "      <td>157.259995</td>\n",
              "      <td>150.152054</td>\n",
              "      <td>8055200</td>\n",
              "    </tr>\n",
              "    <tr>\n",
              "      <th>5531</th>\n",
              "      <td>2021-12-27</td>\n",
              "      <td>157.600006</td>\n",
              "      <td>158.199997</td>\n",
              "      <td>156.339996</td>\n",
              "      <td>158.160004</td>\n",
              "      <td>151.011383</td>\n",
              "      <td>6188100</td>\n",
              "    </tr>\n",
              "    <tr>\n",
              "      <th>5532</th>\n",
              "      <td>2021-12-28</td>\n",
              "      <td>158.199997</td>\n",
              "      <td>160.149994</td>\n",
              "      <td>158.080002</td>\n",
              "      <td>158.639999</td>\n",
              "      <td>151.469666</td>\n",
              "      <td>6342300</td>\n",
              "    </tr>\n",
              "    <tr>\n",
              "      <th>5533</th>\n",
              "      <td>2021-12-29</td>\n",
              "      <td>158.850006</td>\n",
              "      <td>159.630005</td>\n",
              "      <td>158.149994</td>\n",
              "      <td>158.559998</td>\n",
              "      <td>151.393280</td>\n",
              "      <td>6398900</td>\n",
              "    </tr>\n",
              "    <tr>\n",
              "      <th>5534</th>\n",
              "      <td>2021-12-30</td>\n",
              "      <td>159.110001</td>\n",
              "      <td>160.240005</td>\n",
              "      <td>158.369995</td>\n",
              "      <td>158.479996</td>\n",
              "      <td>151.316879</td>\n",
              "      <td>6948200</td>\n",
              "    </tr>\n",
              "  </tbody>\n",
              "</table>\n",
              "<p>5535 rows × 7 columns</p>\n",
              "</div>\n",
              "      <button class=\"colab-df-convert\" onclick=\"convertToInteractive('df-80594a9a-59c3-42cc-a90f-9229afc0aeec')\"\n",
              "              title=\"Convert this dataframe to an interactive table.\"\n",
              "              style=\"display:none;\">\n",
              "        \n",
              "  <svg xmlns=\"http://www.w3.org/2000/svg\" height=\"24px\"viewBox=\"0 0 24 24\"\n",
              "       width=\"24px\">\n",
              "    <path d=\"M0 0h24v24H0V0z\" fill=\"none\"/>\n",
              "    <path d=\"M18.56 5.44l.94 2.06.94-2.06 2.06-.94-2.06-.94-.94-2.06-.94 2.06-2.06.94zm-11 1L8.5 8.5l.94-2.06 2.06-.94-2.06-.94L8.5 2.5l-.94 2.06-2.06.94zm10 10l.94 2.06.94-2.06 2.06-.94-2.06-.94-.94-2.06-.94 2.06-2.06.94z\"/><path d=\"M17.41 7.96l-1.37-1.37c-.4-.4-.92-.59-1.43-.59-.52 0-1.04.2-1.43.59L10.3 9.45l-7.72 7.72c-.78.78-.78 2.05 0 2.83L4 21.41c.39.39.9.59 1.41.59.51 0 1.02-.2 1.41-.59l7.78-7.78 2.81-2.81c.8-.78.8-2.07 0-2.86zM5.41 20L4 18.59l7.72-7.72 1.47 1.35L5.41 20z\"/>\n",
              "  </svg>\n",
              "      </button>\n",
              "      \n",
              "  <style>\n",
              "    .colab-df-container {\n",
              "      display:flex;\n",
              "      flex-wrap:wrap;\n",
              "      gap: 12px;\n",
              "    }\n",
              "\n",
              "    .colab-df-convert {\n",
              "      background-color: #E8F0FE;\n",
              "      border: none;\n",
              "      border-radius: 50%;\n",
              "      cursor: pointer;\n",
              "      display: none;\n",
              "      fill: #1967D2;\n",
              "      height: 32px;\n",
              "      padding: 0 0 0 0;\n",
              "      width: 32px;\n",
              "    }\n",
              "\n",
              "    .colab-df-convert:hover {\n",
              "      background-color: #E2EBFA;\n",
              "      box-shadow: 0px 1px 2px rgba(60, 64, 67, 0.3), 0px 1px 3px 1px rgba(60, 64, 67, 0.15);\n",
              "      fill: #174EA6;\n",
              "    }\n",
              "\n",
              "    [theme=dark] .colab-df-convert {\n",
              "      background-color: #3B4455;\n",
              "      fill: #D2E3FC;\n",
              "    }\n",
              "\n",
              "    [theme=dark] .colab-df-convert:hover {\n",
              "      background-color: #434B5C;\n",
              "      box-shadow: 0px 1px 3px 1px rgba(0, 0, 0, 0.15);\n",
              "      filter: drop-shadow(0px 1px 2px rgba(0, 0, 0, 0.3));\n",
              "      fill: #FFFFFF;\n",
              "    }\n",
              "  </style>\n",
              "\n",
              "      <script>\n",
              "        const buttonEl =\n",
              "          document.querySelector('#df-80594a9a-59c3-42cc-a90f-9229afc0aeec button.colab-df-convert');\n",
              "        buttonEl.style.display =\n",
              "          google.colab.kernel.accessAllowed ? 'block' : 'none';\n",
              "\n",
              "        async function convertToInteractive(key) {\n",
              "          const element = document.querySelector('#df-80594a9a-59c3-42cc-a90f-9229afc0aeec');\n",
              "          const dataTable =\n",
              "            await google.colab.kernel.invokeFunction('convertToInteractive',\n",
              "                                                     [key], {});\n",
              "          if (!dataTable) return;\n",
              "\n",
              "          const docLinkHtml = 'Like what you see? Visit the ' +\n",
              "            '<a target=\"_blank\" href=https://colab.research.google.com/notebooks/data_table.ipynb>data table notebook</a>'\n",
              "            + ' to learn more about interactive tables.';\n",
              "          element.innerHTML = '';\n",
              "          dataTable['output_type'] = 'display_data';\n",
              "          await google.colab.output.renderOutput(dataTable, element);\n",
              "          const docLink = document.createElement('div');\n",
              "          docLink.innerHTML = docLinkHtml;\n",
              "          element.appendChild(docLink);\n",
              "        }\n",
              "      </script>\n",
              "    </div>\n",
              "  </div>\n",
              "  "
            ]
          },
          "metadata": {},
          "execution_count": 39
        }
      ],
      "source": [
        "new_data"
      ]
    },
    {
      "cell_type": "code",
      "execution_count": 40,
      "metadata": {
        "colab": {
          "base_uri": "https://localhost:8080/",
          "height": 423
        },
        "id": "YazoP2oe3i66",
        "outputId": "6af35c9f-a5b2-4cca-b9b5-188f70fa808f"
      },
      "outputs": [
        {
          "output_type": "execute_result",
          "data": {
            "text/plain": [
              "            High         Low       Close   Adj Close    Volume\n",
              "0      50.250000   48.083332   48.583332   24.406229  12019200\n",
              "1      47.458332   46.125000   47.250000   23.870722  11723400\n",
              "2      48.375000   46.000000   46.958332   23.723370   8714550\n",
              "3      48.625000   46.500000   47.625000   24.060169   8369250\n",
              "4      49.000000   47.333332   48.500000   24.502222   6571950\n",
              "...          ...         ...         ...         ...       ...\n",
              "5530  159.119995  157.210007  157.259995  150.152054   8055200\n",
              "5531  158.199997  156.339996  158.160004  151.011383   6188100\n",
              "5532  160.149994  158.080002  158.639999  151.469666   6342300\n",
              "5533  159.630005  158.149994  158.559998  151.393280   6398900\n",
              "5534  160.240005  158.369995  158.479996  151.316879   6948200\n",
              "\n",
              "[5535 rows x 5 columns]"
            ],
            "text/html": [
              "\n",
              "  <div id=\"df-914f4850-c165-4b70-b7fd-0a37e5a68392\">\n",
              "    <div class=\"colab-df-container\">\n",
              "      <div>\n",
              "<style scoped>\n",
              "    .dataframe tbody tr th:only-of-type {\n",
              "        vertical-align: middle;\n",
              "    }\n",
              "\n",
              "    .dataframe tbody tr th {\n",
              "        vertical-align: top;\n",
              "    }\n",
              "\n",
              "    .dataframe thead th {\n",
              "        text-align: right;\n",
              "    }\n",
              "</style>\n",
              "<table border=\"1\" class=\"dataframe\">\n",
              "  <thead>\n",
              "    <tr style=\"text-align: right;\">\n",
              "      <th></th>\n",
              "      <th>High</th>\n",
              "      <th>Low</th>\n",
              "      <th>Close</th>\n",
              "      <th>Adj Close</th>\n",
              "      <th>Volume</th>\n",
              "    </tr>\n",
              "  </thead>\n",
              "  <tbody>\n",
              "    <tr>\n",
              "      <th>0</th>\n",
              "      <td>50.250000</td>\n",
              "      <td>48.083332</td>\n",
              "      <td>48.583332</td>\n",
              "      <td>24.406229</td>\n",
              "      <td>12019200</td>\n",
              "    </tr>\n",
              "    <tr>\n",
              "      <th>1</th>\n",
              "      <td>47.458332</td>\n",
              "      <td>46.125000</td>\n",
              "      <td>47.250000</td>\n",
              "      <td>23.870722</td>\n",
              "      <td>11723400</td>\n",
              "    </tr>\n",
              "    <tr>\n",
              "      <th>2</th>\n",
              "      <td>48.375000</td>\n",
              "      <td>46.000000</td>\n",
              "      <td>46.958332</td>\n",
              "      <td>23.723370</td>\n",
              "      <td>8714550</td>\n",
              "    </tr>\n",
              "    <tr>\n",
              "      <th>3</th>\n",
              "      <td>48.625000</td>\n",
              "      <td>46.500000</td>\n",
              "      <td>47.625000</td>\n",
              "      <td>24.060169</td>\n",
              "      <td>8369250</td>\n",
              "    </tr>\n",
              "    <tr>\n",
              "      <th>4</th>\n",
              "      <td>49.000000</td>\n",
              "      <td>47.333332</td>\n",
              "      <td>48.500000</td>\n",
              "      <td>24.502222</td>\n",
              "      <td>6571950</td>\n",
              "    </tr>\n",
              "    <tr>\n",
              "      <th>...</th>\n",
              "      <td>...</td>\n",
              "      <td>...</td>\n",
              "      <td>...</td>\n",
              "      <td>...</td>\n",
              "      <td>...</td>\n",
              "    </tr>\n",
              "    <tr>\n",
              "      <th>5530</th>\n",
              "      <td>159.119995</td>\n",
              "      <td>157.210007</td>\n",
              "      <td>157.259995</td>\n",
              "      <td>150.152054</td>\n",
              "      <td>8055200</td>\n",
              "    </tr>\n",
              "    <tr>\n",
              "      <th>5531</th>\n",
              "      <td>158.199997</td>\n",
              "      <td>156.339996</td>\n",
              "      <td>158.160004</td>\n",
              "      <td>151.011383</td>\n",
              "      <td>6188100</td>\n",
              "    </tr>\n",
              "    <tr>\n",
              "      <th>5532</th>\n",
              "      <td>160.149994</td>\n",
              "      <td>158.080002</td>\n",
              "      <td>158.639999</td>\n",
              "      <td>151.469666</td>\n",
              "      <td>6342300</td>\n",
              "    </tr>\n",
              "    <tr>\n",
              "      <th>5533</th>\n",
              "      <td>159.630005</td>\n",
              "      <td>158.149994</td>\n",
              "      <td>158.559998</td>\n",
              "      <td>151.393280</td>\n",
              "      <td>6398900</td>\n",
              "    </tr>\n",
              "    <tr>\n",
              "      <th>5534</th>\n",
              "      <td>160.240005</td>\n",
              "      <td>158.369995</td>\n",
              "      <td>158.479996</td>\n",
              "      <td>151.316879</td>\n",
              "      <td>6948200</td>\n",
              "    </tr>\n",
              "  </tbody>\n",
              "</table>\n",
              "<p>5535 rows × 5 columns</p>\n",
              "</div>\n",
              "      <button class=\"colab-df-convert\" onclick=\"convertToInteractive('df-914f4850-c165-4b70-b7fd-0a37e5a68392')\"\n",
              "              title=\"Convert this dataframe to an interactive table.\"\n",
              "              style=\"display:none;\">\n",
              "        \n",
              "  <svg xmlns=\"http://www.w3.org/2000/svg\" height=\"24px\"viewBox=\"0 0 24 24\"\n",
              "       width=\"24px\">\n",
              "    <path d=\"M0 0h24v24H0V0z\" fill=\"none\"/>\n",
              "    <path d=\"M18.56 5.44l.94 2.06.94-2.06 2.06-.94-2.06-.94-.94-2.06-.94 2.06-2.06.94zm-11 1L8.5 8.5l.94-2.06 2.06-.94-2.06-.94L8.5 2.5l-.94 2.06-2.06.94zm10 10l.94 2.06.94-2.06 2.06-.94-2.06-.94-.94-2.06-.94 2.06-2.06.94z\"/><path d=\"M17.41 7.96l-1.37-1.37c-.4-.4-.92-.59-1.43-.59-.52 0-1.04.2-1.43.59L10.3 9.45l-7.72 7.72c-.78.78-.78 2.05 0 2.83L4 21.41c.39.39.9.59 1.41.59.51 0 1.02-.2 1.41-.59l7.78-7.78 2.81-2.81c.8-.78.8-2.07 0-2.86zM5.41 20L4 18.59l7.72-7.72 1.47 1.35L5.41 20z\"/>\n",
              "  </svg>\n",
              "      </button>\n",
              "      \n",
              "  <style>\n",
              "    .colab-df-container {\n",
              "      display:flex;\n",
              "      flex-wrap:wrap;\n",
              "      gap: 12px;\n",
              "    }\n",
              "\n",
              "    .colab-df-convert {\n",
              "      background-color: #E8F0FE;\n",
              "      border: none;\n",
              "      border-radius: 50%;\n",
              "      cursor: pointer;\n",
              "      display: none;\n",
              "      fill: #1967D2;\n",
              "      height: 32px;\n",
              "      padding: 0 0 0 0;\n",
              "      width: 32px;\n",
              "    }\n",
              "\n",
              "    .colab-df-convert:hover {\n",
              "      background-color: #E2EBFA;\n",
              "      box-shadow: 0px 1px 2px rgba(60, 64, 67, 0.3), 0px 1px 3px 1px rgba(60, 64, 67, 0.15);\n",
              "      fill: #174EA6;\n",
              "    }\n",
              "\n",
              "    [theme=dark] .colab-df-convert {\n",
              "      background-color: #3B4455;\n",
              "      fill: #D2E3FC;\n",
              "    }\n",
              "\n",
              "    [theme=dark] .colab-df-convert:hover {\n",
              "      background-color: #434B5C;\n",
              "      box-shadow: 0px 1px 3px 1px rgba(0, 0, 0, 0.15);\n",
              "      filter: drop-shadow(0px 1px 2px rgba(0, 0, 0, 0.3));\n",
              "      fill: #FFFFFF;\n",
              "    }\n",
              "  </style>\n",
              "\n",
              "      <script>\n",
              "        const buttonEl =\n",
              "          document.querySelector('#df-914f4850-c165-4b70-b7fd-0a37e5a68392 button.colab-df-convert');\n",
              "        buttonEl.style.display =\n",
              "          google.colab.kernel.accessAllowed ? 'block' : 'none';\n",
              "\n",
              "        async function convertToInteractive(key) {\n",
              "          const element = document.querySelector('#df-914f4850-c165-4b70-b7fd-0a37e5a68392');\n",
              "          const dataTable =\n",
              "            await google.colab.kernel.invokeFunction('convertToInteractive',\n",
              "                                                     [key], {});\n",
              "          if (!dataTable) return;\n",
              "\n",
              "          const docLinkHtml = 'Like what you see? Visit the ' +\n",
              "            '<a target=\"_blank\" href=https://colab.research.google.com/notebooks/data_table.ipynb>data table notebook</a>'\n",
              "            + ' to learn more about interactive tables.';\n",
              "          element.innerHTML = '';\n",
              "          dataTable['output_type'] = 'display_data';\n",
              "          await google.colab.output.renderOutput(dataTable, element);\n",
              "          const docLink = document.createElement('div');\n",
              "          docLink.innerHTML = docLinkHtml;\n",
              "          element.appendChild(docLink);\n",
              "        }\n",
              "      </script>\n",
              "    </div>\n",
              "  </div>\n",
              "  "
            ]
          },
          "metadata": {},
          "execution_count": 40
        }
      ],
      "source": [
        "Xcols = new_data.columns[new_data.columns.str.contains(\"C.\") | new_data.columns.str.contains(\"L\")| new_data.columns.str.contains(\"A.\")|new_data.columns.str.contains(\"H\")|new_data.columns.str.contains(\"L\")|new_data.columns.str.contains(\"V\")]\n",
        "X = new_data[Xcols]\n",
        "X"
      ]
    },
    {
      "cell_type": "markdown",
      "metadata": {
        "id": "fBAb_tx43_S_"
      },
      "source": [
        "**Regularization with coefficient optimization**"
      ]
    },
    {
      "cell_type": "code",
      "execution_count": 41,
      "metadata": {
        "colab": {
          "base_uri": "https://localhost:8080/"
        },
        "id": "2RUGMB_c4IX2",
        "outputId": "8df2fb32-ae9b-46ff-efa2-42d13adbc43e"
      },
      "outputs": [
        {
          "output_type": "execute_result",
          "data": {
            "text/plain": [
              "array([0.45868024, 0.45868021, 0.45867876, 0.45854805])"
            ]
          },
          "metadata": {},
          "execution_count": 41
        }
      ],
      "source": [
        "# Defining a list of alpha values to find the optimal value\n",
        "a_val = [0.000001, 0.001, 0.05, 5]\n",
        "hyper_parameter = {'alpha':a_val}\n",
        "\n",
        "# Create a Ridge regression model\n",
        "linear_reg_ridge = Ridge()\n",
        "# Create a GridSearchCV object for hyperparameter tuning\n",
        "clf = GridSearchCV(linear_reg_ridge, hyper_parameter, cv=5, scoring='neg_mean_squared_error')\n",
        "\n",
        "# Fit the model on the data to perform hyperparameter tuning\n",
        "_ = clf.fit(X,y)\n",
        "\n",
        "# Extract the root mean squared error (RMSE) from the grid search results\n",
        "rmse_list = np.sqrt(clf.cv_results_['mean_test_score']*-1)\n",
        "rmse_list\n",
        "\n"
      ]
    },
    {
      "cell_type": "code",
      "execution_count": 42,
      "metadata": {
        "colab": {
          "base_uri": "https://localhost:8080/",
          "height": 477
        },
        "id": "AQaUoTql5n9Y",
        "outputId": "a49e7a86-a967-4162-e0c8-86eb9e57adcc"
      },
      "outputs": [
        {
          "output_type": "execute_result",
          "data": {
            "text/plain": [
              "Text(0, 0.5, 'RMSE')"
            ]
          },
          "metadata": {},
          "execution_count": 42
        },
        {
          "output_type": "display_data",
          "data": {
            "text/plain": [
              "<Figure size 640x480 with 1 Axes>"
            ],
            "image/png": "[encoded data removed]"
          },
          "metadata": {}
        }
      ],
      "source": [
        "# Plotting all c values\n",
        "plt.plot(a_val, rmse_list, '-bo')\n",
        "plt.yscale('log')\n",
        "plt.xscale('log')\n",
        "plt.xlabel('c value', fontsize=14)\n",
        "plt.ylabel('RMSE', fontsize=14)"
      ]
    },
    {
      "cell_type": "code",
      "execution_count": 43,
      "metadata": {
        "colab": {
          "base_uri": "https://localhost:8080/"
        },
        "id": "nNCMdPfm57Jr",
        "outputId": "7d223220-d753-434c-eb43-813455d4d828"
      },
      "outputs": [
        {
          "output_type": "execute_result",
          "data": {
            "text/plain": [
              "(5, 0.45854805188408454)"
            ]
          },
          "metadata": {},
          "execution_count": 43
        }
      ],
      "source": [
        "# Finding min c value and rmse\n",
        "min_idx = np.argmin(rmse_list)\n",
        "\n",
        "a_val[min_idx], rmse_list[min_idx]"
      ]
    },
    {
      "cell_type": "code",
      "execution_count": 44,
      "metadata": {
        "colab": {
          "base_uri": "https://localhost:8080/"
        },
        "id": "luC28x4j6XF8",
        "outputId": "fe421ec2-a855-4f2e-fa58-2cfe82e6cb33"
      },
      "outputs": [
        {
          "output_type": "execute_result",
          "data": {
            "text/plain": [
              "5"
            ]
          },
          "metadata": {},
          "execution_count": 44
        }
      ],
      "source": [
        "# optimal value\n",
        "a_opt = a_val[min_idx]\n",
        "a_opt"
      ]
    },
    {
      "cell_type": "markdown",
      "metadata": {
        "id": "U_Da0PfwMqER"
      },
      "source": [
        "**Training the model with optimal value**"
      ]
    },
    {
      "cell_type": "code",
      "execution_count": 45,
      "metadata": {
        "colab": {
          "base_uri": "https://localhost:8080/",
          "height": 1000
        },
        "id": "vpUurF_86fgu",
        "outputId": "26993146-bfc2-4550-a55d-31c782a36476"
      },
      "outputs": [
        {
          "output_type": "display_data",
          "data": {
            "text/plain": [
              "<Figure size 640x480 with 1 Axes>"
            ],
            "image/png": "[encoded data removed]"
          },
          "metadata": {}
        },
        {
          "output_type": "stream",
          "name": "stdout",
          "text": [
            "Root Mean squared error: 0.42\n",
            "Coefficient of determination: 1.00\n"
          ]
        },
        {
          "output_type": "display_data",
          "data": {
            "text/plain": [
              "<Figure size 640x480 with 1 Axes>"
            ],
            "image/png": "[encoded data removed]"
          },
          "metadata": {}
        },
        {
          "output_type": "stream",
          "name": "stdout",
          "text": [
            "Root Mean squared error: 0.37\n",
            "Coefficient of determination: 0.99\n"
          ]
        },
        {
          "output_type": "display_data",
          "data": {
            "text/plain": [
              "<Figure size 640x480 with 1 Axes>"
            ],
            "image/png": "[encoded data removed]"
          },
          "metadata": {}
        },
        {
          "output_type": "stream",
          "name": "stdout",
          "text": [
            "Root Mean squared error: 0.35\n",
            "Coefficient of determination: 1.00\n"
          ]
        },
        {
          "output_type": "display_data",
          "data": {
            "text/plain": [
              "<Figure size 640x480 with 1 Axes>"
            ],
            "image/png": "[encoded data removed]"
          },
          "metadata": {}
        },
        {
          "output_type": "stream",
          "name": "stdout",
          "text": [
            "Root Mean squared error: 0.34\n",
            "Coefficient of determination: 1.00\n"
          ]
        },
        {
          "output_type": "display_data",
          "data": {
            "text/plain": [
              "<Figure size 640x480 with 1 Axes>"
            ],
            "image/png": "[encoded data removed]"
          },
          "metadata": {}
        },
        {
          "output_type": "stream",
          "name": "stdout",
          "text": [
            "Root Mean squared error: 0.71\n",
            "Coefficient of determination: 1.00\n"
          ]
        }
      ],
      "source": [
        "# Create a Ridge regression model with the optimized alpha value\n",
        "pr_ridge_a_opt = Ridge(alpha=a_opt)\n",
        "\n",
        "# Initialize an empty list to store the errors\n",
        "errors_a_opt = []\n",
        "\n",
        "# Loop through each fold of the cross-validation\n",
        "for idx, (train, test) in enumerate(kf.split(X)):\n",
        "\n",
        "# Split the data into training and testing sets based on the fold indices\n",
        "    X_train = X.values[train]\n",
        "    X_test = X.values[test]\n",
        "\n",
        "    y_train = y.values[train]\n",
        "    y_test = y.values[test]\n",
        "\n",
        "# Fit the Ridge regression model on the training data\n",
        "    model = pr_ridge_a_opt.fit(X_train,y_train)\n",
        "\n",
        "# Make predictions on the testing and training data\n",
        "    y_pred_test = model.predict(X_test)\n",
        "    y_pred_train = model.predict(X_train)\n",
        "# Compute the errors\n",
        "    rmse_test = np.sqrt(mean_squared_error(y_test, y_pred_test))\n",
        "    rmse_train = np.sqrt(mean_squared_error(y_train, y_pred_train))\n",
        "\n",
        "    r2_test = r2_score(y_test, y_pred_test)\n",
        "    r2_train = r2_score(y_train, y_pred_train)\n",
        "\n",
        "    #Plot pred vs real\n",
        "    plt.scatter(y_test, y_pred_test, color='r')\n",
        "    plt.xlabel('Real')\n",
        "    plt.ylabel('Predicted')\n",
        "    plt.show()\n",
        "\n",
        "# Print the root mean squared error (RMSE) for the test set\n",
        "    print(\"Root Mean squared error: %.2f\" % rmse_test)\n",
        "# Print the coefficient of determination (R^2) for the test set\n",
        "    print(\"Coefficient of determination: %.2f\" % r2_test)\n",
        "\n",
        "# Create a list of error metrics\n",
        "    error = {'kfold': idx+1,\n",
        "             'rmse_train': rmse_train,\n",
        "             'rmse_test': rmse_test,\n",
        "             'r2_test': r2_test,\n",
        "             'r2_train': r2_train}\n",
        "\n",
        "errors_a_opt.append(error)\n",
        "errors_a_opt = pd.DataFrame(errors_a_opt)"
      ]
    },
    {
      "cell_type": "code",
      "execution_count": 46,
      "metadata": {
        "colab": {
          "base_uri": "https://localhost:8080/"
        },
        "id": "W1TWCFBY6zD0",
        "outputId": "abb03782-d4c4-4444-ab0b-11201a8aec40"
      },
      "outputs": [
        {
          "output_type": "execute_result",
          "data": {
            "text/plain": [
              "rmse_test    0.709561\n",
              "r2_test      0.999016\n",
              "dtype: float64"
            ]
          },
          "metadata": {},
          "execution_count": 46
        }
      ],
      "source": [
        "# Final rmse and r2 values(mean)\n",
        "errors_a_opt[['rmse_test','r2_test']].mean()"
      ]
    },
    {
      "cell_type": "markdown",
      "metadata": {
        "id": "_v19cHV-O3o5"
      },
      "source": [
        "# **Comparing Linear and Polynomial regression**"
      ]
    },
    {
      "cell_type": "code",
      "execution_count": 47,
      "metadata": {
        "colab": {
          "base_uri": "https://localhost:8080/",
          "height": 797
        },
        "id": "YtjcLfnnPAyt",
        "outputId": "e3bf9183-e36f-46dc-92fa-abe968d040bf"
      },
      "outputs": [
        {
          "output_type": "display_data",
          "data": {
            "text/plain": [
              "<Figure size 800x400 with 1 Axes>"
            ],
            "image/png": "[encoded data removed]"
          },
          "metadata": {}
        },
        {
          "output_type": "display_data",
          "data": {
            "text/plain": [
              "<Figure size 800x400 with 1 Axes>"
            ],
            "image/png": "[encoded data removed]"
          },
          "metadata": {}
        }
      ],
      "source": [
        "# List of error values\n",
        "RMSE_Error = (0.436981,0.709561)\n",
        "R2_Error = (0.997532,0.999016)\n",
        "\n",
        "# Model namesfor the x axix labels\n",
        "models = ['Linear Regression', 'Polynomial Regression']\n",
        "\n",
        "# Colors for the bars\n",
        "colors =['cyan', 'yellow']\n",
        "\n",
        "grid = (1, 2)\n",
        "\n",
        "\n",
        "# Plotting for rmse\n",
        "plt.figure(figsize=(8, 4))\n",
        "plt.bar(models, RMSE_Error, color= colors)\n",
        "plt.ylabel('RMSE')\n",
        "plt.title('Comparison of RMSE')\n",
        "plt.tight_layout()\n",
        "plt.show()\n",
        "\n",
        "\n",
        "# Plotting for r2\n",
        "plt.figure(figsize=(8, 4))\n",
        "plt.bar(models, R2_Error, color= colors)\n",
        "plt.ylabel('R2')\n",
        "plt.title('Comparison of R2 value')\n",
        "\n",
        "plt.tight_layout()\n",
        "plt.show()"
      ]
    },
    {
      "cell_type": "markdown",
      "metadata": {
        "id": "tu69bmqaVVXn"
      },
      "source": [
        "# **RF**"
      ]
    },
    {
      "cell_type": "code",
      "execution_count": 48,
      "metadata": {
        "colab": {
          "base_uri": "https://localhost:8080/",
          "height": 423
        },
        "id": "nu9rozlVVXit",
        "outputId": "10667172-c83d-44b5-8d1d-7617bf02b942"
      },
      "outputs": [
        {
          "output_type": "execute_result",
          "data": {
            "text/plain": [
              "            High         Low       Close   Adj Close    Volume\n",
              "0      50.250000   48.083332   48.583332   24.406229  12019200\n",
              "1      47.458332   46.125000   47.250000   23.870722  11723400\n",
              "2      48.375000   46.000000   46.958332   23.723370   8714550\n",
              "3      48.625000   46.500000   47.625000   24.060169   8369250\n",
              "4      49.000000   47.333332   48.500000   24.502222   6571950\n",
              "...          ...         ...         ...         ...       ...\n",
              "5530  159.119995  157.210007  157.259995  150.152054   8055200\n",
              "5531  158.199997  156.339996  158.160004  151.011383   6188100\n",
              "5532  160.149994  158.080002  158.639999  151.469666   6342300\n",
              "5533  159.630005  158.149994  158.559998  151.393280   6398900\n",
              "5534  160.240005  158.369995  158.479996  151.316879   6948200\n",
              "\n",
              "[5535 rows x 5 columns]"
            ],
            "text/html": [
              "\n",
              "  <div id=\"df-a42d4e17-3ba7-461d-b4a4-986c284f945c\">\n",
              "    <div class=\"colab-df-container\">\n",
              "      <div>\n",
              "<style scoped>\n",
              "    .dataframe tbody tr th:only-of-type {\n",
              "        vertical-align: middle;\n",
              "    }\n",
              "\n",
              "    .dataframe tbody tr th {\n",
              "        vertical-align: top;\n",
              "    }\n",
              "\n",
              "    .dataframe thead th {\n",
              "        text-align: right;\n",
              "    }\n",
              "</style>\n",
              "<table border=\"1\" class=\"dataframe\">\n",
              "  <thead>\n",
              "    <tr style=\"text-align: right;\">\n",
              "      <th></th>\n",
              "      <th>High</th>\n",
              "      <th>Low</th>\n",
              "      <th>Close</th>\n",
              "      <th>Adj Close</th>\n",
              "      <th>Volume</th>\n",
              "    </tr>\n",
              "  </thead>\n",
              "  <tbody>\n",
              "    <tr>\n",
              "      <th>0</th>\n",
              "      <td>50.250000</td>\n",
              "      <td>48.083332</td>\n",
              "      <td>48.583332</td>\n",
              "      <td>24.406229</td>\n",
              "      <td>12019200</td>\n",
              "    </tr>\n",
              "    <tr>\n",
              "      <th>1</th>\n",
              "      <td>47.458332</td>\n",
              "      <td>46.125000</td>\n",
              "      <td>47.250000</td>\n",
              "      <td>23.870722</td>\n",
              "      <td>11723400</td>\n",
              "    </tr>\n",
              "    <tr>\n",
              "      <th>2</th>\n",
              "      <td>48.375000</td>\n",
              "      <td>46.000000</td>\n",
              "      <td>46.958332</td>\n",
              "      <td>23.723370</td>\n",
              "      <td>8714550</td>\n",
              "    </tr>\n",
              "    <tr>\n",
              "      <th>3</th>\n",
              "      <td>48.625000</td>\n",
              "      <td>46.500000</td>\n",
              "      <td>47.625000</td>\n",
              "      <td>24.060169</td>\n",
              "      <td>8369250</td>\n",
              "    </tr>\n",
              "    <tr>\n",
              "      <th>4</th>\n",
              "      <td>49.000000</td>\n",
              "      <td>47.333332</td>\n",
              "      <td>48.500000</td>\n",
              "      <td>24.502222</td>\n",
              "      <td>6571950</td>\n",
              "    </tr>\n",
              "    <tr>\n",
              "      <th>...</th>\n",
              "      <td>...</td>\n",
              "      <td>...</td>\n",
              "      <td>...</td>\n",
              "      <td>...</td>\n",
              "      <td>...</td>\n",
              "    </tr>\n",
              "    <tr>\n",
              "      <th>5530</th>\n",
              "      <td>159.119995</td>\n",
              "      <td>157.210007</td>\n",
              "      <td>157.259995</td>\n",
              "      <td>150.152054</td>\n",
              "      <td>8055200</td>\n",
              "    </tr>\n",
              "    <tr>\n",
              "      <th>5531</th>\n",
              "      <td>158.199997</td>\n",
              "      <td>156.339996</td>\n",
              "      <td>158.160004</td>\n",
              "      <td>151.011383</td>\n",
              "      <td>6188100</td>\n",
              "    </tr>\n",
              "    <tr>\n",
              "      <th>5532</th>\n",
              "      <td>160.149994</td>\n",
              "      <td>158.080002</td>\n",
              "      <td>158.639999</td>\n",
              "      <td>151.469666</td>\n",
              "      <td>6342300</td>\n",
              "    </tr>\n",
              "    <tr>\n",
              "      <th>5533</th>\n",
              "      <td>159.630005</td>\n",
              "      <td>158.149994</td>\n",
              "      <td>158.559998</td>\n",
              "      <td>151.393280</td>\n",
              "      <td>6398900</td>\n",
              "    </tr>\n",
              "    <tr>\n",
              "      <th>5534</th>\n",
              "      <td>160.240005</td>\n",
              "      <td>158.369995</td>\n",
              "      <td>158.479996</td>\n",
              "      <td>151.316879</td>\n",
              "      <td>6948200</td>\n",
              "    </tr>\n",
              "  </tbody>\n",
              "</table>\n",
              "<p>5535 rows × 5 columns</p>\n",
              "</div>\n",
              "      <button class=\"colab-df-convert\" onclick=\"convertToInteractive('df-a42d4e17-3ba7-461d-b4a4-986c284f945c')\"\n",
              "              title=\"Convert this dataframe to an interactive table.\"\n",
              "              style=\"display:none;\">\n",
              "        \n",
              "  <svg xmlns=\"http://www.w3.org/2000/svg\" height=\"24px\"viewBox=\"0 0 24 24\"\n",
              "       width=\"24px\">\n",
              "    <path d=\"M0 0h24v24H0V0z\" fill=\"none\"/>\n",
              "    <path d=\"M18.56 5.44l.94 2.06.94-2.06 2.06-.94-2.06-.94-.94-2.06-.94 2.06-2.06.94zm-11 1L8.5 8.5l.94-2.06 2.06-.94-2.06-.94L8.5 2.5l-.94 2.06-2.06.94zm10 10l.94 2.06.94-2.06 2.06-.94-2.06-.94-.94-2.06-.94 2.06-2.06.94z\"/><path d=\"M17.41 7.96l-1.37-1.37c-.4-.4-.92-.59-1.43-.59-.52 0-1.04.2-1.43.59L10.3 9.45l-7.72 7.72c-.78.78-.78 2.05 0 2.83L4 21.41c.39.39.9.59 1.41.59.51 0 1.02-.2 1.41-.59l7.78-7.78 2.81-2.81c.8-.78.8-2.07 0-2.86zM5.41 20L4 18.59l7.72-7.72 1.47 1.35L5.41 20z\"/>\n",
              "  </svg>\n",
              "      </button>\n",
              "      \n",
              "  <style>\n",
              "    .colab-df-container {\n",
              "      display:flex;\n",
              "      flex-wrap:wrap;\n",
              "      gap: 12px;\n",
              "    }\n",
              "\n",
              "    .colab-df-convert {\n",
              "      background-color: #E8F0FE;\n",
              "      border: none;\n",
              "      border-radius: 50%;\n",
              "      cursor: pointer;\n",
              "      display: none;\n",
              "      fill: #1967D2;\n",
              "      height: 32px;\n",
              "      padding: 0 0 0 0;\n",
              "      width: 32px;\n",
              "    }\n",
              "\n",
              "    .colab-df-convert:hover {\n",
              "      background-color: #E2EBFA;\n",
              "      box-shadow: 0px 1px 2px rgba(60, 64, 67, 0.3), 0px 1px 3px 1px rgba(60, 64, 67, 0.15);\n",
              "      fill: #174EA6;\n",
              "    }\n",
              "\n",
              "    [theme=dark] .colab-df-convert {\n",
              "      background-color: #3B4455;\n",
              "      fill: #D2E3FC;\n",
              "    }\n",
              "\n",
              "    [theme=dark] .colab-df-convert:hover {\n",
              "      background-color: #434B5C;\n",
              "      box-shadow: 0px 1px 3px 1px rgba(0, 0, 0, 0.15);\n",
              "      filter: drop-shadow(0px 1px 2px rgba(0, 0, 0, 0.3));\n",
              "      fill: #FFFFFF;\n",
              "    }\n",
              "  </style>\n",
              "\n",
              "      <script>\n",
              "        const buttonEl =\n",
              "          document.querySelector('#df-a42d4e17-3ba7-461d-b4a4-986c284f945c button.colab-df-convert');\n",
              "        buttonEl.style.display =\n",
              "          google.colab.kernel.accessAllowed ? 'block' : 'none';\n",
              "\n",
              "        async function convertToInteractive(key) {\n",
              "          const element = document.querySelector('#df-a42d4e17-3ba7-461d-b4a4-986c284f945c');\n",
              "          const dataTable =\n",
              "            await google.colab.kernel.invokeFunction('convertToInteractive',\n",
              "                                                     [key], {});\n",
              "          if (!dataTable) return;\n",
              "\n",
              "          const docLinkHtml = 'Like what you see? Visit the ' +\n",
              "            '<a target=\"_blank\" href=https://colab.research.google.com/notebooks/data_table.ipynb>data table notebook</a>'\n",
              "            + ' to learn more about interactive tables.';\n",
              "          element.innerHTML = '';\n",
              "          dataTable['output_type'] = 'display_data';\n",
              "          await google.colab.output.renderOutput(dataTable, element);\n",
              "          const docLink = document.createElement('div');\n",
              "          docLink.innerHTML = docLinkHtml;\n",
              "          element.appendChild(docLink);\n",
              "        }\n",
              "      </script>\n",
              "    </div>\n",
              "  </div>\n",
              "  "
            ]
          },
          "metadata": {},
          "execution_count": 48
        }
      ],
      "source": [
        "X = data[['High', 'Low', 'Close', 'Adj Close', 'Volume']]\n",
        "X\n"
      ]
    },
    {
      "cell_type": "code",
      "execution_count": 49,
      "metadata": {
        "colab": {
          "base_uri": "https://localhost:8080/"
        },
        "id": "TZj2ztQuV1tR",
        "outputId": "81940801-68df-4e63-d133-138bf0492667"
      },
      "outputs": [
        {
          "output_type": "execute_result",
          "data": {
            "text/plain": [
              "0        49.833332\n",
              "1        47.083332\n",
              "2        46.833332\n",
              "3        46.750000\n",
              "4        48.416668\n",
              "           ...    \n",
              "5530    157.610001\n",
              "5531    157.600006\n",
              "5532    158.199997\n",
              "5533    158.850006\n",
              "5534    159.110001\n",
              "Name: Open, Length: 5535, dtype: float64"
            ]
          },
          "metadata": {},
          "execution_count": 49
        }
      ],
      "source": [
        "y = data['Open']\n",
        "y"
      ]
    },
    {
      "cell_type": "code",
      "execution_count": 52,
      "metadata": {
        "id": "z_MxnextWccu",
        "colab": {
          "base_uri": "https://localhost:8080/"
        },
        "outputId": "4cfe8cd1-3629-436f-fabe-b317fa8871aa"
      },
      "outputs": [
        {
          "output_type": "stream",
          "name": "stdout",
          "text": [
            "R2 Score: 0.9996932408241819\n",
            "RMSE: 0.5934179116183617\n",
            "Best Hyperparameters: {'max_depth': None, 'min_samples_leaf': 1, 'min_samples_split': 2, 'n_estimators': 200}\n"
          ]
        }
      ],
      "source": [
        "# Split the data into training and testing sets\n",
        "#X_train, X_test, y_train, y_test = train_test_split(X, y, test_size=0.2, random_state=42)\n",
        "\n",
        "# Data normalization\n",
        "scaler = StandardScaler()\n",
        "X = scaler.fit_transform(X)\n",
        "\n",
        "# Define the parameter grid for hyperparameter tuning\n",
        "param_grid = {\n",
        "    'n_estimators': [100, 200, 10],  # Number of trees in the forest\n",
        "    'max_depth': [None, 5, 10],       # Maximum depth of the tree\n",
        "    'min_samples_split': [2, 5, 10],  # Minimum number of samples required to split an internal node\n",
        "    'min_samples_leaf': [1, 2, 4]     # Minimum number of samples required to be at a leaf node\n",
        "}\n",
        "\n",
        "# Perform 5-fold cross-validation with grid search\n",
        "kf = KFold(n_splits=5, random_state=42, shuffle=True)\n",
        "for train_index, test_index in kf.split(X):\n",
        "    X_train, X_test = X[train_index], X[test_index]\n",
        "    y_train, y_test = y[train_index], y[test_index]\n",
        "\n",
        " # Loop over different values of n_estimators\n",
        "#for n_estimators in param_grid['n_estimators']:\n",
        "# Create the Random Forest regressor\n",
        "    rf = RandomForestRegressor(random_state=42)\n",
        "\n",
        "\n",
        "# Perform grid search to find the best hyperparameters\n",
        "grid_search = GridSearchCV(estimator=rf, param_grid=param_grid, scoring='r2', cv=5)\n",
        "grid_search.fit(X_train, y_train)\n",
        "\n",
        "# Get the best model with the tuned hyperparameters\n",
        "best_rf = grid_search.best_estimator_\n",
        "\n",
        "# Make predictions on the test set\n",
        "y_pred = best_rf.predict(X_test)\n",
        "\n",
        "# Evaluate the model performance\n",
        "rmse = np.sqrt(mean_squared_error(y_test, y_pred))\n",
        "r2 = r2_score(y_test, y_pred)\n",
        "print(f'R2 Score: {r2}')\n",
        "print(f'RMSE: {rmse}')\n",
        "\n",
        "# Print the best hyperparameters\n",
        "print(f'Best Hyperparameters: {grid_search.best_params_}')"
      ]
    },
    {
      "cell_type": "code",
      "execution_count": 53,
      "metadata": {
        "colab": {
          "base_uri": "https://localhost:8080/",
          "height": 472
        },
        "id": "KLJoR4IHW0a6",
        "outputId": "40d91024-7339-4df7-8924-f9a00dfbb178"
      },
      "outputs": [
        {
          "output_type": "display_data",
          "data": {
            "text/plain": [
              "<Figure size 640x480 with 1 Axes>"
            ],
            "image/png": "[encoded data removed]"
          },
          "metadata": {}
        }
      ],
      "source": [
        "#for overall dataset\n",
        "y_pred = best_rf.predict(X)\n",
        "# Plot the predicted values against the actual values\n",
        "plt.scatter(y, y_pred, alpha=0.5)\n",
        "plt.plot([min(y_test), max(y_test)], [min(y_test), max(y_test)], 'r--')\n",
        "plt.xlabel('Actual Price')\n",
        "plt.ylabel('Predicted Price')\n",
        "plt.title('Actual vs. Predicted Price')\n",
        "plt.show()"
      ]
    },
    {
      "cell_type": "markdown",
      "metadata": {
        "id": "g8bIMbrpdXx9"
      },
      "source": [
        "# **Test Case**\n",
        "\n"
      ]
    },
    {
      "cell_type": "code",
      "source": [
        "model1 = linear_reg.fit(X,y)\n",
        "pr = Ridge(alpha = a_opt)\n",
        "model2 = pr.fit(X,y)\n",
        "model3 =best_rf.fit(X,y)"
      ],
      "metadata": {
        "id": "m6RDfLHKvhjZ"
      },
      "execution_count": 58,
      "outputs": []
    },
    {
      "cell_type": "code",
      "execution_count": 59,
      "metadata": {
        "id": "s6AZ9Mqvm8y3",
        "colab": {
          "base_uri": "https://localhost:8080/",
          "height": 423
        },
        "outputId": "057f8c1e-6116-42e4-dda3-145bf948b5e3"
      },
      "outputs": [
        {
          "output_type": "execute_result",
          "data": {
            "text/plain": [
              "           Date        Open        High         Low       Close   Adj Close  \\\n",
              "0    2022-01-03  159.860001  162.639999  159.509995  161.699997  154.391357   \n",
              "1    2022-01-04  164.309998  168.580002  164.229996  167.830002  160.244293   \n",
              "2    2022-01-05  167.820007  168.360001  163.729996  163.779999  157.314697   \n",
              "3    2022-01-06  166.910004  167.369995  163.869995  165.520004  158.986023   \n",
              "4    2022-01-07  165.669998  167.529999  165.059998  167.160004  160.561249   \n",
              "..          ...         ...         ...         ...         ...         ...   \n",
              "246  2022-12-23  130.580002  131.440002  129.639999  131.279999  129.302628   \n",
              "247  2022-12-27  131.570007  132.220001  130.550003  131.740005  129.755707   \n",
              "248  2022-12-28  131.850006  133.410004  131.009995  132.460007  130.464859   \n",
              "249  2022-12-29  132.929993  133.270004  132.309998  133.220001  131.213409   \n",
              "250  2022-12-30  132.809998  134.330002  132.440002  134.100006  132.080154   \n",
              "\n",
              "       Volume  \n",
              "0    13120900  \n",
              "1    20195800  \n",
              "2    17539400  \n",
              "3    14047500  \n",
              "4    13913300  \n",
              "..        ...  \n",
              "246   5091900  \n",
              "247   5411000  \n",
              "248   8827700  \n",
              "249   6585200  \n",
              "250   9292500  \n",
              "\n",
              "[251 rows x 7 columns]"
            ],
            "text/html": [
              "\n",
              "  <div id=\"df-0a3a254a-2e13-4071-b1dc-1cb5f048316d\">\n",
              "    <div class=\"colab-df-container\">\n",
              "      <div>\n",
              "<style scoped>\n",
              "    .dataframe tbody tr th:only-of-type {\n",
              "        vertical-align: middle;\n",
              "    }\n",
              "\n",
              "    .dataframe tbody tr th {\n",
              "        vertical-align: top;\n",
              "    }\n",
              "\n",
              "    .dataframe thead th {\n",
              "        text-align: right;\n",
              "    }\n",
              "</style>\n",
              "<table border=\"1\" class=\"dataframe\">\n",
              "  <thead>\n",
              "    <tr style=\"text-align: right;\">\n",
              "      <th></th>\n",
              "      <th>Date</th>\n",
              "      <th>Open</th>\n",
              "      <th>High</th>\n",
              "      <th>Low</th>\n",
              "      <th>Close</th>\n",
              "      <th>Adj Close</th>\n",
              "      <th>Volume</th>\n",
              "    </tr>\n",
              "  </thead>\n",
              "  <tbody>\n",
              "    <tr>\n",
              "      <th>0</th>\n",
              "      <td>2022-01-03</td>\n",
              "      <td>159.860001</td>\n",
              "      <td>162.639999</td>\n",
              "      <td>159.509995</td>\n",
              "      <td>161.699997</td>\n",
              "      <td>154.391357</td>\n",
              "      <td>13120900</td>\n",
              "    </tr>\n",
              "    <tr>\n",
              "      <th>1</th>\n",
              "      <td>2022-01-04</td>\n",
              "      <td>164.309998</td>\n",
              "      <td>168.580002</td>\n",
              "      <td>164.229996</td>\n",
              "      <td>167.830002</td>\n",
              "      <td>160.244293</td>\n",
              "      <td>20195800</td>\n",
              "    </tr>\n",
              "    <tr>\n",
              "      <th>2</th>\n",
              "      <td>2022-01-05</td>\n",
              "      <td>167.820007</td>\n",
              "      <td>168.360001</td>\n",
              "      <td>163.729996</td>\n",
              "      <td>163.779999</td>\n",
              "      <td>157.314697</td>\n",
              "      <td>17539400</td>\n",
              "    </tr>\n",
              "    <tr>\n",
              "      <th>3</th>\n",
              "      <td>2022-01-06</td>\n",
              "      <td>166.910004</td>\n",
              "      <td>167.369995</td>\n",
              "      <td>163.869995</td>\n",
              "      <td>165.520004</td>\n",
              "      <td>158.986023</td>\n",
              "      <td>14047500</td>\n",
              "    </tr>\n",
              "    <tr>\n",
              "      <th>4</th>\n",
              "      <td>2022-01-07</td>\n",
              "      <td>165.669998</td>\n",
              "      <td>167.529999</td>\n",
              "      <td>165.059998</td>\n",
              "      <td>167.160004</td>\n",
              "      <td>160.561249</td>\n",
              "      <td>13913300</td>\n",
              "    </tr>\n",
              "    <tr>\n",
              "      <th>...</th>\n",
              "      <td>...</td>\n",
              "      <td>...</td>\n",
              "      <td>...</td>\n",
              "      <td>...</td>\n",
              "      <td>...</td>\n",
              "      <td>...</td>\n",
              "      <td>...</td>\n",
              "    </tr>\n",
              "    <tr>\n",
              "      <th>246</th>\n",
              "      <td>2022-12-23</td>\n",
              "      <td>130.580002</td>\n",
              "      <td>131.440002</td>\n",
              "      <td>129.639999</td>\n",
              "      <td>131.279999</td>\n",
              "      <td>129.302628</td>\n",
              "      <td>5091900</td>\n",
              "    </tr>\n",
              "    <tr>\n",
              "      <th>247</th>\n",
              "      <td>2022-12-27</td>\n",
              "      <td>131.570007</td>\n",
              "      <td>132.220001</td>\n",
              "      <td>130.550003</td>\n",
              "      <td>131.740005</td>\n",
              "      <td>129.755707</td>\n",
              "      <td>5411000</td>\n",
              "    </tr>\n",
              "    <tr>\n",
              "      <th>248</th>\n",
              "      <td>2022-12-28</td>\n",
              "      <td>131.850006</td>\n",
              "      <td>133.410004</td>\n",
              "      <td>131.009995</td>\n",
              "      <td>132.460007</td>\n",
              "      <td>130.464859</td>\n",
              "      <td>8827700</td>\n",
              "    </tr>\n",
              "    <tr>\n",
              "      <th>249</th>\n",
              "      <td>2022-12-29</td>\n",
              "      <td>132.929993</td>\n",
              "      <td>133.270004</td>\n",
              "      <td>132.309998</td>\n",
              "      <td>133.220001</td>\n",
              "      <td>131.213409</td>\n",
              "      <td>6585200</td>\n",
              "    </tr>\n",
              "    <tr>\n",
              "      <th>250</th>\n",
              "      <td>2022-12-30</td>\n",
              "      <td>132.809998</td>\n",
              "      <td>134.330002</td>\n",
              "      <td>132.440002</td>\n",
              "      <td>134.100006</td>\n",
              "      <td>132.080154</td>\n",
              "      <td>9292500</td>\n",
              "    </tr>\n",
              "  </tbody>\n",
              "</table>\n",
              "<p>251 rows × 7 columns</p>\n",
              "</div>\n",
              "      <button class=\"colab-df-convert\" onclick=\"convertToInteractive('df-0a3a254a-2e13-4071-b1dc-1cb5f048316d')\"\n",
              "              title=\"Convert this dataframe to an interactive table.\"\n",
              "              style=\"display:none;\">\n",
              "        \n",
              "  <svg xmlns=\"http://www.w3.org/2000/svg\" height=\"24px\"viewBox=\"0 0 24 24\"\n",
              "       width=\"24px\">\n",
              "    <path d=\"M0 0h24v24H0V0z\" fill=\"none\"/>\n",
              "    <path d=\"M18.56 5.44l.94 2.06.94-2.06 2.06-.94-2.06-.94-.94-2.06-.94 2.06-2.06.94zm-11 1L8.5 8.5l.94-2.06 2.06-.94-2.06-.94L8.5 2.5l-.94 2.06-2.06.94zm10 10l.94 2.06.94-2.06 2.06-.94-2.06-.94-.94-2.06-.94 2.06-2.06.94z\"/><path d=\"M17.41 7.96l-1.37-1.37c-.4-.4-.92-.59-1.43-.59-.52 0-1.04.2-1.43.59L10.3 9.45l-7.72 7.72c-.78.78-.78 2.05 0 2.83L4 21.41c.39.39.9.59 1.41.59.51 0 1.02-.2 1.41-.59l7.78-7.78 2.81-2.81c.8-.78.8-2.07 0-2.86zM5.41 20L4 18.59l7.72-7.72 1.47 1.35L5.41 20z\"/>\n",
              "  </svg>\n",
              "      </button>\n",
              "      \n",
              "  <style>\n",
              "    .colab-df-container {\n",
              "      display:flex;\n",
              "      flex-wrap:wrap;\n",
              "      gap: 12px;\n",
              "    }\n",
              "\n",
              "    .colab-df-convert {\n",
              "      background-color: #E8F0FE;\n",
              "      border: none;\n",
              "      border-radius: 50%;\n",
              "      cursor: pointer;\n",
              "      display: none;\n",
              "      fill: #1967D2;\n",
              "      height: 32px;\n",
              "      padding: 0 0 0 0;\n",
              "      width: 32px;\n",
              "    }\n",
              "\n",
              "    .colab-df-convert:hover {\n",
              "      background-color: #E2EBFA;\n",
              "      box-shadow: 0px 1px 2px rgba(60, 64, 67, 0.3), 0px 1px 3px 1px rgba(60, 64, 67, 0.15);\n",
              "      fill: #174EA6;\n",
              "    }\n",
              "\n",
              "    [theme=dark] .colab-df-convert {\n",
              "      background-color: #3B4455;\n",
              "      fill: #D2E3FC;\n",
              "    }\n",
              "\n",
              "    [theme=dark] .colab-df-convert:hover {\n",
              "      background-color: #434B5C;\n",
              "      box-shadow: 0px 1px 3px 1px rgba(0, 0, 0, 0.15);\n",
              "      filter: drop-shadow(0px 1px 2px rgba(0, 0, 0, 0.3));\n",
              "      fill: #FFFFFF;\n",
              "    }\n",
              "  </style>\n",
              "\n",
              "      <script>\n",
              "        const buttonEl =\n",
              "          document.querySelector('#df-0a3a254a-2e13-4071-b1dc-1cb5f048316d button.colab-df-convert');\n",
              "        buttonEl.style.display =\n",
              "          google.colab.kernel.accessAllowed ? 'block' : 'none';\n",
              "\n",
              "        async function convertToInteractive(key) {\n",
              "          const element = document.querySelector('#df-0a3a254a-2e13-4071-b1dc-1cb5f048316d');\n",
              "          const dataTable =\n",
              "            await google.colab.kernel.invokeFunction('convertToInteractive',\n",
              "                                                     [key], {});\n",
              "          if (!dataTable) return;\n",
              "\n",
              "          const docLinkHtml = 'Like what you see? Visit the ' +\n",
              "            '<a target=\"_blank\" href=https://colab.research.google.com/notebooks/data_table.ipynb>data table notebook</a>'\n",
              "            + ' to learn more about interactive tables.';\n",
              "          element.innerHTML = '';\n",
              "          dataTable['output_type'] = 'display_data';\n",
              "          await google.colab.output.renderOutput(dataTable, element);\n",
              "          const docLink = document.createElement('div');\n",
              "          docLink.innerHTML = docLinkHtml;\n",
              "          element.appendChild(docLink);\n",
              "        }\n",
              "      </script>\n",
              "    </div>\n",
              "  </div>\n",
              "  "
            ]
          },
          "metadata": {},
          "execution_count": 59
        }
      ],
      "source": [
        "test_data = pd.read_csv('/content/drive/MyDrive/JPMorgan_testDATA [MConverter.eu].csv')\n",
        "test_data"
      ]
    },
    {
      "cell_type": "code",
      "execution_count": 55,
      "metadata": {
        "id": "rc1-0M5Rl2_f",
        "colab": {
          "base_uri": "https://localhost:8080/",
          "height": 423
        },
        "outputId": "3dc4bf9b-d7e9-4542-862e-174e7f4f40ab"
      },
      "outputs": [
        {
          "output_type": "execute_result",
          "data": {
            "text/plain": [
              "            High         Low       Close   Adj Close    Volume\n",
              "0      50.250000   48.083332   48.583332   24.406229  12019200\n",
              "1      47.458332   46.125000   47.250000   23.870722  11723400\n",
              "2      48.375000   46.000000   46.958332   23.723370   8714550\n",
              "3      48.625000   46.500000   47.625000   24.060169   8369250\n",
              "4      49.000000   47.333332   48.500000   24.502222   6571950\n",
              "...          ...         ...         ...         ...       ...\n",
              "5530  159.119995  157.210007  157.259995  150.152054   8055200\n",
              "5531  158.199997  156.339996  158.160004  151.011383   6188100\n",
              "5532  160.149994  158.080002  158.639999  151.469666   6342300\n",
              "5533  159.630005  158.149994  158.559998  151.393280   6398900\n",
              "5534  160.240005  158.369995  158.479996  151.316879   6948200\n",
              "\n",
              "[5535 rows x 5 columns]"
            ],
            "text/html": [
              "\n",
              "  <div id=\"df-cad8d923-d5d4-4641-b783-6c386af90e0c\">\n",
              "    <div class=\"colab-df-container\">\n",
              "      <div>\n",
              "<style scoped>\n",
              "    .dataframe tbody tr th:only-of-type {\n",
              "        vertical-align: middle;\n",
              "    }\n",
              "\n",
              "    .dataframe tbody tr th {\n",
              "        vertical-align: top;\n",
              "    }\n",
              "\n",
              "    .dataframe thead th {\n",
              "        text-align: right;\n",
              "    }\n",
              "</style>\n",
              "<table border=\"1\" class=\"dataframe\">\n",
              "  <thead>\n",
              "    <tr style=\"text-align: right;\">\n",
              "      <th></th>\n",
              "      <th>High</th>\n",
              "      <th>Low</th>\n",
              "      <th>Close</th>\n",
              "      <th>Adj Close</th>\n",
              "      <th>Volume</th>\n",
              "    </tr>\n",
              "  </thead>\n",
              "  <tbody>\n",
              "    <tr>\n",
              "      <th>0</th>\n",
              "      <td>50.250000</td>\n",
              "      <td>48.083332</td>\n",
              "      <td>48.583332</td>\n",
              "      <td>24.406229</td>\n",
              "      <td>12019200</td>\n",
              "    </tr>\n",
              "    <tr>\n",
              "      <th>1</th>\n",
              "      <td>47.458332</td>\n",
              "      <td>46.125000</td>\n",
              "      <td>47.250000</td>\n",
              "      <td>23.870722</td>\n",
              "      <td>11723400</td>\n",
              "    </tr>\n",
              "    <tr>\n",
              "      <th>2</th>\n",
              "      <td>48.375000</td>\n",
              "      <td>46.000000</td>\n",
              "      <td>46.958332</td>\n",
              "      <td>23.723370</td>\n",
              "      <td>8714550</td>\n",
              "    </tr>\n",
              "    <tr>\n",
              "      <th>3</th>\n",
              "      <td>48.625000</td>\n",
              "      <td>46.500000</td>\n",
              "      <td>47.625000</td>\n",
              "      <td>24.060169</td>\n",
              "      <td>8369250</td>\n",
              "    </tr>\n",
              "    <tr>\n",
              "      <th>4</th>\n",
              "      <td>49.000000</td>\n",
              "      <td>47.333332</td>\n",
              "      <td>48.500000</td>\n",
              "      <td>24.502222</td>\n",
              "      <td>6571950</td>\n",
              "    </tr>\n",
              "    <tr>\n",
              "      <th>...</th>\n",
              "      <td>...</td>\n",
              "      <td>...</td>\n",
              "      <td>...</td>\n",
              "      <td>...</td>\n",
              "      <td>...</td>\n",
              "    </tr>\n",
              "    <tr>\n",
              "      <th>5530</th>\n",
              "      <td>159.119995</td>\n",
              "      <td>157.210007</td>\n",
              "      <td>157.259995</td>\n",
              "      <td>150.152054</td>\n",
              "      <td>8055200</td>\n",
              "    </tr>\n",
              "    <tr>\n",
              "      <th>5531</th>\n",
              "      <td>158.199997</td>\n",
              "      <td>156.339996</td>\n",
              "      <td>158.160004</td>\n",
              "      <td>151.011383</td>\n",
              "      <td>6188100</td>\n",
              "    </tr>\n",
              "    <tr>\n",
              "      <th>5532</th>\n",
              "      <td>160.149994</td>\n",
              "      <td>158.080002</td>\n",
              "      <td>158.639999</td>\n",
              "      <td>151.469666</td>\n",
              "      <td>6342300</td>\n",
              "    </tr>\n",
              "    <tr>\n",
              "      <th>5533</th>\n",
              "      <td>159.630005</td>\n",
              "      <td>158.149994</td>\n",
              "      <td>158.559998</td>\n",
              "      <td>151.393280</td>\n",
              "      <td>6398900</td>\n",
              "    </tr>\n",
              "    <tr>\n",
              "      <th>5534</th>\n",
              "      <td>160.240005</td>\n",
              "      <td>158.369995</td>\n",
              "      <td>158.479996</td>\n",
              "      <td>151.316879</td>\n",
              "      <td>6948200</td>\n",
              "    </tr>\n",
              "  </tbody>\n",
              "</table>\n",
              "<p>5535 rows × 5 columns</p>\n",
              "</div>\n",
              "      <button class=\"colab-df-convert\" onclick=\"convertToInteractive('df-cad8d923-d5d4-4641-b783-6c386af90e0c')\"\n",
              "              title=\"Convert this dataframe to an interactive table.\"\n",
              "              style=\"display:none;\">\n",
              "        \n",
              "  <svg xmlns=\"http://www.w3.org/2000/svg\" height=\"24px\"viewBox=\"0 0 24 24\"\n",
              "       width=\"24px\">\n",
              "    <path d=\"M0 0h24v24H0V0z\" fill=\"none\"/>\n",
              "    <path d=\"M18.56 5.44l.94 2.06.94-2.06 2.06-.94-2.06-.94-.94-2.06-.94 2.06-2.06.94zm-11 1L8.5 8.5l.94-2.06 2.06-.94-2.06-.94L8.5 2.5l-.94 2.06-2.06.94zm10 10l.94 2.06.94-2.06 2.06-.94-2.06-.94-.94-2.06-.94 2.06-2.06.94z\"/><path d=\"M17.41 7.96l-1.37-1.37c-.4-.4-.92-.59-1.43-.59-.52 0-1.04.2-1.43.59L10.3 9.45l-7.72 7.72c-.78.78-.78 2.05 0 2.83L4 21.41c.39.39.9.59 1.41.59.51 0 1.02-.2 1.41-.59l7.78-7.78 2.81-2.81c.8-.78.8-2.07 0-2.86zM5.41 20L4 18.59l7.72-7.72 1.47 1.35L5.41 20z\"/>\n",
              "  </svg>\n",
              "      </button>\n",
              "      \n",
              "  <style>\n",
              "    .colab-df-container {\n",
              "      display:flex;\n",
              "      flex-wrap:wrap;\n",
              "      gap: 12px;\n",
              "    }\n",
              "\n",
              "    .colab-df-convert {\n",
              "      background-color: #E8F0FE;\n",
              "      border: none;\n",
              "      border-radius: 50%;\n",
              "      cursor: pointer;\n",
              "      display: none;\n",
              "      fill: #1967D2;\n",
              "      height: 32px;\n",
              "      padding: 0 0 0 0;\n",
              "      width: 32px;\n",
              "    }\n",
              "\n",
              "    .colab-df-convert:hover {\n",
              "      background-color: #E2EBFA;\n",
              "      box-shadow: 0px 1px 2px rgba(60, 64, 67, 0.3), 0px 1px 3px 1px rgba(60, 64, 67, 0.15);\n",
              "      fill: #174EA6;\n",
              "    }\n",
              "\n",
              "    [theme=dark] .colab-df-convert {\n",
              "      background-color: #3B4455;\n",
              "      fill: #D2E3FC;\n",
              "    }\n",
              "\n",
              "    [theme=dark] .colab-df-convert:hover {\n",
              "      background-color: #434B5C;\n",
              "      box-shadow: 0px 1px 3px 1px rgba(0, 0, 0, 0.15);\n",
              "      filter: drop-shadow(0px 1px 2px rgba(0, 0, 0, 0.3));\n",
              "      fill: #FFFFFF;\n",
              "    }\n",
              "  </style>\n",
              "\n",
              "      <script>\n",
              "        const buttonEl =\n",
              "          document.querySelector('#df-cad8d923-d5d4-4641-b783-6c386af90e0c button.colab-df-convert');\n",
              "        buttonEl.style.display =\n",
              "          google.colab.kernel.accessAllowed ? 'block' : 'none';\n",
              "\n",
              "        async function convertToInteractive(key) {\n",
              "          const element = document.querySelector('#df-cad8d923-d5d4-4641-b783-6c386af90e0c');\n",
              "          const dataTable =\n",
              "            await google.colab.kernel.invokeFunction('convertToInteractive',\n",
              "                                                     [key], {});\n",
              "          if (!dataTable) return;\n",
              "\n",
              "          const docLinkHtml = 'Like what you see? Visit the ' +\n",
              "            '<a target=\"_blank\" href=https://colab.research.google.com/notebooks/data_table.ipynb>data table notebook</a>'\n",
              "            + ' to learn more about interactive tables.';\n",
              "          element.innerHTML = '';\n",
              "          dataTable['output_type'] = 'display_data';\n",
              "          await google.colab.output.renderOutput(dataTable, element);\n",
              "          const docLink = document.createElement('div');\n",
              "          docLink.innerHTML = docLinkHtml;\n",
              "          element.appendChild(docLink);\n",
              "        }\n",
              "      </script>\n",
              "    </div>\n",
              "  </div>\n",
              "  "
            ]
          },
          "metadata": {},
          "execution_count": 55
        }
      ],
      "source": [
        "Xcols = data.columns[data.columns.str.contains(\"High\")| data.columns.str.contains(\"Low\")|data.columns.str.contains(\"Close\")|data.columns.str.contains(\"Adj\")|data.columns.str.contains(\"Volume\")]\n",
        "X = data[Xcols]\n",
        "X"
      ]
    },
    {
      "cell_type": "code",
      "execution_count": 56,
      "metadata": {
        "id": "485PwhvVl4he",
        "colab": {
          "base_uri": "https://localhost:8080/"
        },
        "outputId": "a1fe0536-b96d-4769-c6c8-3f5a09118e35"
      },
      "outputs": [
        {
          "output_type": "execute_result",
          "data": {
            "text/plain": [
              "0        49.833332\n",
              "1        47.083332\n",
              "2        46.833332\n",
              "3        46.750000\n",
              "4        48.416668\n",
              "           ...    \n",
              "5530    157.610001\n",
              "5531    157.600006\n",
              "5532    158.199997\n",
              "5533    158.850006\n",
              "5534    159.110001\n",
              "Name: Open, Length: 5535, dtype: float64"
            ]
          },
          "metadata": {},
          "execution_count": 56
        }
      ],
      "source": [
        "y = data.Open\n",
        "y"
      ]
    },
    {
      "cell_type": "code",
      "execution_count": 60,
      "metadata": {
        "id": "pj1OIc0vmECV",
        "colab": {
          "base_uri": "https://localhost:8080/"
        },
        "outputId": "417819bd-160f-4611-827d-6983b3e0c606"
      },
      "outputs": [
        {
          "output_type": "stream",
          "name": "stdout",
          "text": [
            "{'rmse_test1': 0.4547998894090471, 'rmse_test2': 0.4547096331426836, 'rmse_test3': 0.2061553856660452, 'r2_test1': 0.9998156025286628, 'r2_test2': 0.9998156757097529, 'r2_test3': 0.9999621118299197}\n"
          ]
        }
      ],
      "source": [
        "y_pred1 = model1.predict(X) #linear\n",
        "y_pred2 = model2.predict(X) #polynomial\n",
        "y_pred3 = model3.predict(X) #Random forest\n",
        "# Errors\n",
        "rmse_test1 = np.sqrt(mean_squared_error(y, y_pred1))\n",
        "rmse_test2 = np.sqrt(mean_squared_error(y, y_pred2))\n",
        "rmse_test3 = np.sqrt(mean_squared_error(y, y_pred3))\n",
        "\n",
        "r2_test1 = r2_score(y, y_pred1)\n",
        "r2_test2 = r2_score(y, y_pred2)\n",
        "r2_test3 = r2_score(y, y_pred3)\n",
        "\n",
        "errors = {'rmse_test1': rmse_test1,'rmse_test2': rmse_test2, 'rmse_test3': rmse_test3, 'r2_test1':r2_test1, 'r2_test2':r2_test2, 'r2_test3': r2_test3}\n",
        "print(errors)"
      ]
    },
    {
      "cell_type": "code",
      "execution_count": 62,
      "metadata": {
        "id": "6ECxzSOuzTzm",
        "colab": {
          "base_uri": "https://localhost:8080/",
          "height": 797
        },
        "outputId": "585552b2-255a-443c-8206-6f2c11b0135b"
      },
      "outputs": [
        {
          "output_type": "display_data",
          "data": {
            "text/plain": [
              "<Figure size 800x400 with 1 Axes>"
            ],
            "image/png": "[encoded data removed]"
          },
          "metadata": {}
        },
        {
          "output_type": "display_data",
          "data": {
            "text/plain": [
              "<Figure size 800x400 with 1 Axes>"
            ],
            "image/png": "[encoded data removed]"
          },
          "metadata": {}
        }
      ],
      "source": [
        "# List of error values\n",
        "RMSE_Error = (0.4547998894090471, 0.4547096331426836, 0.2061553856660452)\n",
        "R2_Error = (0.9998156025286628,0.9998156757097529,0.9999621118299197)\n",
        "\n",
        "# Model namesfor the x axix labels\n",
        "models = ['Linear Regression', 'Polynomial Regression', 'Random Forest']\n",
        "\n",
        "# Colors for the bars\n",
        "colors =['cyan', 'yellow']\n",
        "\n",
        "grid = (1, 2)\n",
        "\n",
        "\n",
        "# Plotting for rmse\n",
        "plt.figure(figsize=(8, 4))\n",
        "plt.bar(models, RMSE_Error, color= colors)\n",
        "plt.ylabel('RMSE')\n",
        "plt.title('Comparison of RMSE')\n",
        "plt.tight_layout()\n",
        "plt.show()\n",
        "\n",
        "\n",
        "# Plotting for r2\n",
        "plt.figure(figsize=(8, 4))\n",
        "plt.bar(models, R2_Error, color= colors)\n",
        "plt.ylabel('R2')\n",
        "plt.title('Comparison of R2 value')\n",
        "\n",
        "plt.tight_layout()\n",
        "plt.show()"
      ]
    }
  ],
  "metadata": {
    "colab": {
      "provenance": []
    },
    "kernelspec": {
      "display_name": "Python 3",
      "name": "python3"
    },
    "language_info": {
      "name": "python"
    }
  },
  "nbformat": 4,
  "nbformat_minor": 0
}